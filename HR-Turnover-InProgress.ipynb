{
 "cells": [
  {
   "cell_type": "code",
   "execution_count": 76,
   "id": "09f0cfb5",
   "metadata": {},
   "outputs": [
    {
     "data": {
      "text/html": [
       "<style>.container { width:100% !important; }</style>"
      ],
      "text/plain": [
       "<IPython.core.display.HTML object>"
      ]
     },
     "metadata": {},
     "output_type": "display_data"
    }
   ],
   "source": [
    "#Importing packages\n",
    "\n",
    "from IPython.core.display import display, HTML\n",
    "display(HTML(\"<style>.container { width:100% !important; }</style>\"))\n",
    "import matplotlib.pylab as plt\n",
    "import numpy as np\n",
    "import pandas as pd\n",
    "import seaborn as sns\n",
    "from scipy import stats\n",
    "from scipy.stats import chi2_contingency\n",
    "from scipy.stats import pearsonr\n",
    "from sklearn import linear_model\n",
    "from sklearn.linear_model import LogisticRegression\n",
    "from sklearn.linear_model import Ridge\n",
    "from statsmodels.stats.mediation import Mediation\n",
    "from statsmodels.stats.outliers_influence import variance_inflation_factor\n",
    "\n",
    "logisticRegression= LogisticRegression()"
   ]
  },
  {
   "cell_type": "markdown",
   "id": "deb444f2",
   "metadata": {},
   "source": [
    "# Data Preparation"
   ]
  },
  {
   "cell_type": "code",
   "execution_count": 77,
   "id": "8e9ba429",
   "metadata": {
    "scrolled": true
   },
   "outputs": [],
   "source": [
    "hr = pd.read_csv('turnover.csv') #Importing the csv\n",
    "hr['department'] = hr['sales'] #Renaming the column to avoid confusion.\n",
    "del hr['sales']\n",
    "#Turning the salary column into categorical integers.\n",
    "hr.loc[(hr.salary == 'low'),'salary']='1'\n",
    "hr.loc[(hr.salary == 'medium'),'salary']='2'\n",
    "hr.loc[(hr.salary == 'high'),'salary']='3'"
   ]
  },
  {
   "cell_type": "code",
   "execution_count": 3,
   "id": "c3be23cf",
   "metadata": {},
   "outputs": [],
   "source": [
    "sales = pd.get_dummies(hr['department'])\n",
    "#Getting get_dummies of the sales column to create new columns, one for each department."
   ]
  },
  {
   "cell_type": "code",
   "execution_count": 4,
   "id": "ef344ab3",
   "metadata": {},
   "outputs": [
    {
     "data": {
      "text/html": [
       "<div>\n",
       "<style scoped>\n",
       "    .dataframe tbody tr th:only-of-type {\n",
       "        vertical-align: middle;\n",
       "    }\n",
       "\n",
       "    .dataframe tbody tr th {\n",
       "        vertical-align: top;\n",
       "    }\n",
       "\n",
       "    .dataframe thead th {\n",
       "        text-align: right;\n",
       "    }\n",
       "</style>\n",
       "<table border=\"1\" class=\"dataframe\">\n",
       "  <thead>\n",
       "    <tr style=\"text-align: right;\">\n",
       "      <th></th>\n",
       "      <th>satisfaction_level</th>\n",
       "      <th>last_evaluation</th>\n",
       "      <th>number_project</th>\n",
       "      <th>average_montly_hours</th>\n",
       "      <th>time_spend_company</th>\n",
       "      <th>Work_accident</th>\n",
       "      <th>promotion_last_5years</th>\n",
       "      <th>salary</th>\n",
       "      <th>IT</th>\n",
       "      <th>RandD</th>\n",
       "      <th>accounting</th>\n",
       "      <th>hr</th>\n",
       "      <th>management</th>\n",
       "      <th>marketing</th>\n",
       "      <th>product_mng</th>\n",
       "      <th>sales</th>\n",
       "      <th>support</th>\n",
       "      <th>technical</th>\n",
       "    </tr>\n",
       "    <tr>\n",
       "      <th>left</th>\n",
       "      <th></th>\n",
       "      <th></th>\n",
       "      <th></th>\n",
       "      <th></th>\n",
       "      <th></th>\n",
       "      <th></th>\n",
       "      <th></th>\n",
       "      <th></th>\n",
       "      <th></th>\n",
       "      <th></th>\n",
       "      <th></th>\n",
       "      <th></th>\n",
       "      <th></th>\n",
       "      <th></th>\n",
       "      <th></th>\n",
       "      <th></th>\n",
       "      <th></th>\n",
       "      <th></th>\n",
       "    </tr>\n",
       "  </thead>\n",
       "  <tbody>\n",
       "    <tr>\n",
       "      <th>0</th>\n",
       "      <td>0.666810</td>\n",
       "      <td>0.715473</td>\n",
       "      <td>3.786664</td>\n",
       "      <td>199.060203</td>\n",
       "      <td>3.380032</td>\n",
       "      <td>0.175009</td>\n",
       "      <td>0.026251</td>\n",
       "      <td>1.650945</td>\n",
       "      <td>0.083479</td>\n",
       "      <td>0.058278</td>\n",
       "      <td>0.049265</td>\n",
       "      <td>0.045852</td>\n",
       "      <td>0.047165</td>\n",
       "      <td>0.057315</td>\n",
       "      <td>0.061603</td>\n",
       "      <td>0.273539</td>\n",
       "      <td>0.146482</td>\n",
       "      <td>0.177021</td>\n",
       "    </tr>\n",
       "    <tr>\n",
       "      <th>1</th>\n",
       "      <td>0.440098</td>\n",
       "      <td>0.718113</td>\n",
       "      <td>3.855503</td>\n",
       "      <td>207.419210</td>\n",
       "      <td>3.876505</td>\n",
       "      <td>0.047326</td>\n",
       "      <td>0.005321</td>\n",
       "      <td>1.414730</td>\n",
       "      <td>0.076449</td>\n",
       "      <td>0.033884</td>\n",
       "      <td>0.057127</td>\n",
       "      <td>0.060207</td>\n",
       "      <td>0.025483</td>\n",
       "      <td>0.056847</td>\n",
       "      <td>0.055447</td>\n",
       "      <td>0.283954</td>\n",
       "      <td>0.155419</td>\n",
       "      <td>0.195183</td>\n",
       "    </tr>\n",
       "  </tbody>\n",
       "</table>\n",
       "</div>"
      ],
      "text/plain": [
       "      satisfaction_level  last_evaluation  number_project  \\\n",
       "left                                                        \n",
       "0               0.666810         0.715473        3.786664   \n",
       "1               0.440098         0.718113        3.855503   \n",
       "\n",
       "      average_montly_hours  time_spend_company  Work_accident  \\\n",
       "left                                                            \n",
       "0               199.060203            3.380032       0.175009   \n",
       "1               207.419210            3.876505       0.047326   \n",
       "\n",
       "      promotion_last_5years    salary        IT     RandD  accounting  \\\n",
       "left                                                                    \n",
       "0                  0.026251  1.650945  0.083479  0.058278    0.049265   \n",
       "1                  0.005321  1.414730  0.076449  0.033884    0.057127   \n",
       "\n",
       "            hr  management  marketing  product_mng     sales   support  \\\n",
       "left                                                                     \n",
       "0     0.045852    0.047165   0.057315     0.061603  0.273539  0.146482   \n",
       "1     0.060207    0.025483   0.056847     0.055447  0.283954  0.155419   \n",
       "\n",
       "      technical  \n",
       "left             \n",
       "0      0.177021  \n",
       "1      0.195183  "
      ]
     },
     "execution_count": 4,
     "metadata": {},
     "output_type": "execute_result"
    }
   ],
   "source": [
    "hr_data = pd.concat([hr, sales], axis=1) #Concatenating the sales and the hr dfs into a new df, hr_data.\n",
    "del hr_data['department'] #deleting unneeded column\n",
    "hr_data['salary'] = hr_data['salary'].astype('int64')\n",
    "hr_data.groupby(['left']).mean()\n",
    "#Using the groupby to see the difference in all columns by those who have stayed and left their company."
   ]
  },
  {
   "cell_type": "code",
   "execution_count": 78,
   "id": "13fbd30b",
   "metadata": {},
   "outputs": [
    {
     "name": "stdout",
     "output_type": "stream",
     "text": [
      "satisfaction_level: \n",
      "-0.388\n",
      "last_evaluation: \n",
      "0.007\n",
      "number_project: \n",
      "0.024\n",
      "average_montly_hours: \n",
      "0.071\n",
      "time_spend_company: \n",
      "0.145\n",
      "Work_accident: \n",
      "-0.155\n",
      "promotion_last_5years: \n",
      "-0.062\n",
      "sales: \n",
      "0.01\n",
      "salary: \n",
      "-0.158\n",
      "IT: \n",
      "-0.011\n",
      "RandD: \n",
      "-0.047\n",
      "accounting: \n",
      "0.015\n",
      "hr: \n",
      "0.028\n",
      "management: \n",
      "-0.046\n",
      "marketing: \n",
      "-0.001\n",
      "product_mng: \n",
      "-0.011\n",
      "support: \n",
      "0.011\n",
      "technical: \n",
      "0.02\n"
     ]
    }
   ],
   "source": [
    "predictors = ['satisfaction_level', 'last_evaluation', 'number_project', 'average_montly_hours', 'time_spend_company',\n",
    "              'Work_accident', 'promotion_last_5years', 'sales', 'salary', 'IT', 'RandD', 'accounting', 'hr', 'management',\n",
    "              'marketing', 'product_mng', 'support', 'technical'] #Creating a list of predictors.\n",
    "for predictor in predictors:\n",
    "    if predictor == 'sales':\n",
    "            corr, _ = pearsonr(hr_data[predictor].astype('float'), hr_data['left'])\n",
    "    print(predictor + \": \")\n",
    "    corr, _ = pearsonr(hr_data[predictor], hr_data['left'])\n",
    "    print(round(corr, 3))\n",
    "#Correlation tests"
   ]
  },
  {
   "cell_type": "code",
   "execution_count": 79,
   "id": "e1a41ac5",
   "metadata": {},
   "outputs": [
    {
     "data": {
      "text/html": [
       "<style type=\"text/css\">\n",
       "#T_f9b6e_row0_col0, #T_f9b6e_row1_col1, #T_f9b6e_row2_col2, #T_f9b6e_row3_col3, #T_f9b6e_row4_col4, #T_f9b6e_row5_col5, #T_f9b6e_row6_col6, #T_f9b6e_row7_col7, #T_f9b6e_row8_col8, #T_f9b6e_row9_col9, #T_f9b6e_row10_col10, #T_f9b6e_row11_col11, #T_f9b6e_row12_col12, #T_f9b6e_row13_col13, #T_f9b6e_row14_col14, #T_f9b6e_row15_col15, #T_f9b6e_row16_col16, #T_f9b6e_row17_col17, #T_f9b6e_row18_col18 {\n",
       "  background-color: #b40426;\n",
       "  color: #f1f1f1;\n",
       "}\n",
       "#T_f9b6e_row0_col1, #T_f9b6e_row1_col5, #T_f9b6e_row1_col8, #T_f9b6e_row1_col11, #T_f9b6e_row3_col5, #T_f9b6e_row3_col10, #T_f9b6e_row3_col11, #T_f9b6e_row4_col11, #T_f9b6e_row6_col15, #T_f9b6e_row8_col12, #T_f9b6e_row8_col15, #T_f9b6e_row9_col2, #T_f9b6e_row9_col5, #T_f9b6e_row9_col8, #T_f9b6e_row10_col17, #T_f9b6e_row11_col2, #T_f9b6e_row11_col17, #T_f9b6e_row15_col2, #T_f9b6e_row17_col2, #T_f9b6e_row18_col5 {\n",
       "  background-color: #6282ea;\n",
       "  color: #f1f1f1;\n",
       "}\n",
       "#T_f9b6e_row0_col2, #T_f9b6e_row0_col3, #T_f9b6e_row0_col4, #T_f9b6e_row0_col6, #T_f9b6e_row6_col0, #T_f9b6e_row6_col5, #T_f9b6e_row6_col7, #T_f9b6e_row6_col8, #T_f9b6e_row16_col1, #T_f9b6e_row16_col9, #T_f9b6e_row16_col10, #T_f9b6e_row16_col11, #T_f9b6e_row16_col12, #T_f9b6e_row16_col13, #T_f9b6e_row16_col14, #T_f9b6e_row16_col15, #T_f9b6e_row16_col17, #T_f9b6e_row16_col18, #T_f9b6e_row18_col16 {\n",
       "  background-color: #3b4cc0;\n",
       "  color: #f1f1f1;\n",
       "}\n",
       "#T_f9b6e_row0_col5 {\n",
       "  background-color: #7699f6;\n",
       "  color: #f1f1f1;\n",
       "}\n",
       "#T_f9b6e_row0_col7, #T_f9b6e_row9_col16, #T_f9b6e_row10_col15, #T_f9b6e_row11_col14, #T_f9b6e_row11_col15, #T_f9b6e_row12_col14, #T_f9b6e_row12_col15, #T_f9b6e_row13_col10, #T_f9b6e_row13_col11 {\n",
       "  background-color: #5470de;\n",
       "  color: #f1f1f1;\n",
       "}\n",
       "#T_f9b6e_row0_col8, #T_f9b6e_row2_col0, #T_f9b6e_row4_col8, #T_f9b6e_row7_col17, #T_f9b6e_row13_col7 {\n",
       "  background-color: #7396f5;\n",
       "  color: #f1f1f1;\n",
       "}\n",
       "#T_f9b6e_row0_col9, #T_f9b6e_row3_col9 {\n",
       "  background-color: #6e90f2;\n",
       "  color: #f1f1f1;\n",
       "}\n",
       "#T_f9b6e_row0_col10, #T_f9b6e_row1_col14, #T_f9b6e_row2_col5, #T_f9b6e_row2_col11, #T_f9b6e_row3_col15, #T_f9b6e_row4_col15, #T_f9b6e_row6_col14, #T_f9b6e_row8_col10, #T_f9b6e_row12_col17, #T_f9b6e_row15_col8, #T_f9b6e_row16_col5 {\n",
       "  background-color: #6384eb;\n",
       "  color: #f1f1f1;\n",
       "}\n",
       "#T_f9b6e_row0_col11, #T_f9b6e_row2_col12, #T_f9b6e_row12_col2, #T_f9b6e_row12_col9 {\n",
       "  background-color: #5977e3;\n",
       "  color: #f1f1f1;\n",
       "}\n",
       "#T_f9b6e_row0_col12, #T_f9b6e_row2_col14, #T_f9b6e_row5_col12, #T_f9b6e_row10_col16, #T_f9b6e_row17_col8 {\n",
       "  background-color: #5d7ce6;\n",
       "  color: #f1f1f1;\n",
       "}\n",
       "#T_f9b6e_row0_col13, #T_f9b6e_row5_col2, #T_f9b6e_row7_col2, #T_f9b6e_row12_col5, #T_f9b6e_row15_col17, #T_f9b6e_row18_col8 {\n",
       "  background-color: #5f7fe8;\n",
       "  color: #f1f1f1;\n",
       "}\n",
       "#T_f9b6e_row0_col14, #T_f9b6e_row6_col11, #T_f9b6e_row10_col8, #T_f9b6e_row10_col18, #T_f9b6e_row11_col18, #T_f9b6e_row12_col8 {\n",
       "  background-color: #6687ed;\n",
       "  color: #f1f1f1;\n",
       "}\n",
       "#T_f9b6e_row0_col15, #T_f9b6e_row4_col14, #T_f9b6e_row5_col8, #T_f9b6e_row5_col10, #T_f9b6e_row5_col14, #T_f9b6e_row8_col5, #T_f9b6e_row8_col14, #T_f9b6e_row12_col18, #T_f9b6e_row13_col5, #T_f9b6e_row14_col5, #T_f9b6e_row17_col5 {\n",
       "  background-color: #6788ee;\n",
       "  color: #f1f1f1;\n",
       "}\n",
       "#T_f9b6e_row0_col16, #T_f9b6e_row7_col13 {\n",
       "  background-color: #85a8fc;\n",
       "  color: #f1f1f1;\n",
       "}\n",
       "#T_f9b6e_row0_col17, #T_f9b6e_row1_col4, #T_f9b6e_row2_col16, #T_f9b6e_row5_col17, #T_f9b6e_row6_col17 {\n",
       "  background-color: #80a3fa;\n",
       "  color: #f1f1f1;\n",
       "}\n",
       "#T_f9b6e_row0_col18, #T_f9b6e_row1_col17, #T_f9b6e_row4_col13 {\n",
       "  background-color: #81a4fb;\n",
       "  color: #f1f1f1;\n",
       "}\n",
       "#T_f9b6e_row1_col0, #T_f9b6e_row1_col3, #T_f9b6e_row3_col1 {\n",
       "  background-color: #b1cbfc;\n",
       "  color: #000000;\n",
       "}\n",
       "#T_f9b6e_row1_col2 {\n",
       "  background-color: #cad8ef;\n",
       "  color: #000000;\n",
       "}\n",
       "#T_f9b6e_row1_col6, #T_f9b6e_row9_col0, #T_f9b6e_row10_col0, #T_f9b6e_row13_col0, #T_f9b6e_row14_col0, #T_f9b6e_row15_col0, #T_f9b6e_row16_col0 {\n",
       "  background-color: #98b9ff;\n",
       "  color: #000000;\n",
       "}\n",
       "#T_f9b6e_row1_col7, #T_f9b6e_row17_col9, #T_f9b6e_row18_col17 {\n",
       "  background-color: #4961d2;\n",
       "  color: #f1f1f1;\n",
       "}\n",
       "#T_f9b6e_row1_col9, #T_f9b6e_row2_col9 {\n",
       "  background-color: #6c8ff1;\n",
       "  color: #f1f1f1;\n",
       "}\n",
       "#T_f9b6e_row1_col10, #T_f9b6e_row1_col13, #T_f9b6e_row2_col13, #T_f9b6e_row3_col14, #T_f9b6e_row4_col7, #T_f9b6e_row5_col13, #T_f9b6e_row7_col9, #T_f9b6e_row7_col11, #T_f9b6e_row7_col12, #T_f9b6e_row8_col2, #T_f9b6e_row11_col5, #T_f9b6e_row13_col16, #T_f9b6e_row14_col17 {\n",
       "  background-color: #6180e9;\n",
       "  color: #f1f1f1;\n",
       "}\n",
       "#T_f9b6e_row1_col12, #T_f9b6e_row3_col12, #T_f9b6e_row3_col13, #T_f9b6e_row5_col11, #T_f9b6e_row9_col18, #T_f9b6e_row11_col16, #T_f9b6e_row12_col16, #T_f9b6e_row16_col2 {\n",
       "  background-color: #5e7de7;\n",
       "  color: #f1f1f1;\n",
       "}\n",
       "#T_f9b6e_row1_col15, #T_f9b6e_row2_col8, #T_f9b6e_row2_col10, #T_f9b6e_row2_col15, #T_f9b6e_row3_col8, #T_f9b6e_row4_col5, #T_f9b6e_row5_col15, #T_f9b6e_row8_col4, #T_f9b6e_row8_col11, #T_f9b6e_row10_col2, #T_f9b6e_row13_col2, #T_f9b6e_row13_col17, #T_f9b6e_row14_col18, #T_f9b6e_row15_col5, #T_f9b6e_row15_col18 {\n",
       "  background-color: #6485ec;\n",
       "  color: #f1f1f1;\n",
       "}\n",
       "#T_f9b6e_row1_col16, #T_f9b6e_row3_col4, #T_f9b6e_row4_col0, #T_f9b6e_row8_col18 {\n",
       "  background-color: #7ea1fa;\n",
       "  color: #f1f1f1;\n",
       "}\n",
       "#T_f9b6e_row1_col18, #T_f9b6e_row3_col18, #T_f9b6e_row4_col16, #T_f9b6e_row7_col6, #T_f9b6e_row7_col16 {\n",
       "  background-color: #88abfd;\n",
       "  color: #000000;\n",
       "}\n",
       "#T_f9b6e_row2_col1 {\n",
       "  background-color: #b5cdfa;\n",
       "  color: #000000;\n",
       "}\n",
       "#T_f9b6e_row2_col3 {\n",
       "  background-color: #c9d7f0;\n",
       "  color: #000000;\n",
       "}\n",
       "#T_f9b6e_row2_col4, #T_f9b6e_row9_col6, #T_f9b6e_row12_col0, #T_f9b6e_row13_col8, #T_f9b6e_row15_col6, #T_f9b6e_row18_col0 {\n",
       "  background-color: #94b6ff;\n",
       "  color: #000000;\n",
       "}\n",
       "#T_f9b6e_row2_col6, #T_f9b6e_row18_col6 {\n",
       "  background-color: #9dbdff;\n",
       "  color: #000000;\n",
       "}\n",
       "#T_f9b6e_row2_col7, #T_f9b6e_row11_col7 {\n",
       "  background-color: #4a63d3;\n",
       "  color: #f1f1f1;\n",
       "}\n",
       "#T_f9b6e_row2_col17, #T_f9b6e_row4_col18 {\n",
       "  background-color: #7da0f9;\n",
       "  color: #f1f1f1;\n",
       "}\n",
       "#T_f9b6e_row2_col18, #T_f9b6e_row10_col6, #T_f9b6e_row13_col6 {\n",
       "  background-color: #8caffe;\n",
       "  color: #000000;\n",
       "}\n",
       "#T_f9b6e_row3_col0 {\n",
       "  background-color: #92b4fe;\n",
       "  color: #000000;\n",
       "}\n",
       "#T_f9b6e_row3_col2 {\n",
       "  background-color: #dadce0;\n",
       "  color: #000000;\n",
       "}\n",
       "#T_f9b6e_row3_col6 {\n",
       "  background-color: #a9c6fd;\n",
       "  color: #000000;\n",
       "}\n",
       "#T_f9b6e_row3_col7, #T_f9b6e_row12_col7 {\n",
       "  background-color: #4b64d5;\n",
       "  color: #f1f1f1;\n",
       "}\n",
       "#T_f9b6e_row3_col16, #T_f9b6e_row6_col4 {\n",
       "  background-color: #84a7fc;\n",
       "  color: #f1f1f1;\n",
       "}\n",
       "#T_f9b6e_row3_col17 {\n",
       "  background-color: #7b9ff9;\n",
       "  color: #f1f1f1;\n",
       "}\n",
       "#T_f9b6e_row4_col1, #T_f9b6e_row4_col9, #T_f9b6e_row8_col7, #T_f9b6e_row10_col5, #T_f9b6e_row13_col18, #T_f9b6e_row18_col2 {\n",
       "  background-color: #6a8bef;\n",
       "  color: #f1f1f1;\n",
       "}\n",
       "#T_f9b6e_row4_col2, #T_f9b6e_row7_col0, #T_f9b6e_row12_col6 {\n",
       "  background-color: #9ebeff;\n",
       "  color: #000000;\n",
       "}\n",
       "#T_f9b6e_row4_col3, #T_f9b6e_row5_col9, #T_f9b6e_row6_col2, #T_f9b6e_row6_col9, #T_f9b6e_row6_col12, #T_f9b6e_row7_col10, #T_f9b6e_row8_col9, #T_f9b6e_row11_col8, #T_f9b6e_row14_col8 {\n",
       "  background-color: #688aef;\n",
       "  color: #f1f1f1;\n",
       "}\n",
       "#T_f9b6e_row4_col6 {\n",
       "  background-color: #bbd1f8;\n",
       "  color: #000000;\n",
       "}\n",
       "#T_f9b6e_row4_col10, #T_f9b6e_row9_col17, #T_f9b6e_row14_col16, #T_f9b6e_row16_col8 {\n",
       "  background-color: #5b7ae5;\n",
       "  color: #f1f1f1;\n",
       "}\n",
       "#T_f9b6e_row4_col12, #T_f9b6e_row7_col15, #T_f9b6e_row13_col9, #T_f9b6e_row14_col2, #T_f9b6e_row14_col4, #T_f9b6e_row14_col7, #T_f9b6e_row15_col16, #T_f9b6e_row16_col4 {\n",
       "  background-color: #5a78e4;\n",
       "  color: #f1f1f1;\n",
       "}\n",
       "#T_f9b6e_row4_col17, #T_f9b6e_row8_col17 {\n",
       "  background-color: #7597f6;\n",
       "  color: #f1f1f1;\n",
       "}\n",
       "#T_f9b6e_row5_col0 {\n",
       "  background-color: #a6c4fe;\n",
       "  color: #000000;\n",
       "}\n",
       "#T_f9b6e_row5_col1, #T_f9b6e_row7_col1, #T_f9b6e_row12_col1, #T_f9b6e_row15_col3 {\n",
       "  background-color: #3e51c5;\n",
       "  color: #f1f1f1;\n",
       "}\n",
       "#T_f9b6e_row5_col3, #T_f9b6e_row8_col1, #T_f9b6e_row12_col3, #T_f9b6e_row14_col3 {\n",
       "  background-color: #3d50c3;\n",
       "  color: #f1f1f1;\n",
       "}\n",
       "#T_f9b6e_row5_col4, #T_f9b6e_row14_col9, #T_f9b6e_row15_col9 {\n",
       "  background-color: #5673e0;\n",
       "  color: #f1f1f1;\n",
       "}\n",
       "#T_f9b6e_row5_col6 {\n",
       "  background-color: #7093f3;\n",
       "  color: #f1f1f1;\n",
       "}\n",
       "#T_f9b6e_row5_col7, #T_f9b6e_row10_col9, #T_f9b6e_row11_col4, #T_f9b6e_row11_col9 {\n",
       "  background-color: #5875e1;\n",
       "  color: #f1f1f1;\n",
       "}\n",
       "#T_f9b6e_row5_col16, #T_f9b6e_row5_col18, #T_f9b6e_row7_col8 {\n",
       "  background-color: #82a6fb;\n",
       "  color: #f1f1f1;\n",
       "}\n",
       "#T_f9b6e_row6_col1, #T_f9b6e_row18_col10, #T_f9b6e_row18_col11, #T_f9b6e_row18_col12 {\n",
       "  background-color: #4358cb;\n",
       "  color: #f1f1f1;\n",
       "}\n",
       "#T_f9b6e_row6_col3, #T_f9b6e_row6_col10, #T_f9b6e_row9_col4, #T_f9b6e_row13_col14, #T_f9b6e_row13_col15, #T_f9b6e_row15_col4 {\n",
       "  background-color: #5572df;\n",
       "  color: #f1f1f1;\n",
       "}\n",
       "#T_f9b6e_row6_col13, #T_f9b6e_row10_col4, #T_f9b6e_row10_col13, #T_f9b6e_row11_col13, #T_f9b6e_row12_col4, #T_f9b6e_row12_col13, #T_f9b6e_row14_col12, #T_f9b6e_row15_col11, #T_f9b6e_row15_col12, #T_f9b6e_row17_col18 {\n",
       "  background-color: #506bda;\n",
       "  color: #f1f1f1;\n",
       "}\n",
       "#T_f9b6e_row6_col16 {\n",
       "  background-color: #86a9fc;\n",
       "  color: #f1f1f1;\n",
       "}\n",
       "#T_f9b6e_row6_col18 {\n",
       "  background-color: #89acfd;\n",
       "  color: #000000;\n",
       "}\n",
       "#T_f9b6e_row7_col3, #T_f9b6e_row8_col3, #T_f9b6e_row10_col1, #T_f9b6e_row10_col3, #T_f9b6e_row16_col3, #T_f9b6e_row17_col3 {\n",
       "  background-color: #3f53c6;\n",
       "  color: #f1f1f1;\n",
       "}\n",
       "#T_f9b6e_row7_col4 {\n",
       "  background-color: #6b8df0;\n",
       "  color: #f1f1f1;\n",
       "}\n",
       "#T_f9b6e_row7_col5, #T_f9b6e_row8_col6 {\n",
       "  background-color: #6f92f3;\n",
       "  color: #f1f1f1;\n",
       "}\n",
       "#T_f9b6e_row7_col14 {\n",
       "  background-color: #7295f4;\n",
       "  color: #f1f1f1;\n",
       "}\n",
       "#T_f9b6e_row7_col18, #T_f9b6e_row8_col16, #T_f9b6e_row13_col4 {\n",
       "  background-color: #7a9df8;\n",
       "  color: #f1f1f1;\n",
       "}\n",
       "#T_f9b6e_row8_col0 {\n",
       "  background-color: #a3c2fe;\n",
       "  color: #000000;\n",
       "}\n",
       "#T_f9b6e_row8_col13 {\n",
       "  background-color: #8db0fe;\n",
       "  color: #000000;\n",
       "}\n",
       "#T_f9b6e_row9_col1, #T_f9b6e_row9_col3, #T_f9b6e_row11_col1, #T_f9b6e_row17_col7, #T_f9b6e_row17_col16, #T_f9b6e_row18_col7, #T_f9b6e_row18_col13 {\n",
       "  background-color: #4257c9;\n",
       "  color: #f1f1f1;\n",
       "}\n",
       "#T_f9b6e_row9_col7, #T_f9b6e_row11_col3, #T_f9b6e_row13_col3, #T_f9b6e_row14_col1, #T_f9b6e_row15_col1, #T_f9b6e_row15_col7 {\n",
       "  background-color: #4055c8;\n",
       "  color: #f1f1f1;\n",
       "}\n",
       "#T_f9b6e_row9_col10, #T_f9b6e_row9_col11, #T_f9b6e_row9_col12, #T_f9b6e_row17_col4, #T_f9b6e_row18_col4 {\n",
       "  background-color: #4e68d8;\n",
       "  color: #f1f1f1;\n",
       "}\n",
       "#T_f9b6e_row9_col13 {\n",
       "  background-color: #4c66d6;\n",
       "  color: #f1f1f1;\n",
       "}\n",
       "#T_f9b6e_row9_col14, #T_f9b6e_row9_col15, #T_f9b6e_row14_col13, #T_f9b6e_row15_col13, #T_f9b6e_row16_col7 {\n",
       "  background-color: #4f69d9;\n",
       "  color: #f1f1f1;\n",
       "}\n",
       "#T_f9b6e_row10_col7, #T_f9b6e_row10_col14, #T_f9b6e_row11_col10, #T_f9b6e_row12_col10, #T_f9b6e_row12_col11, #T_f9b6e_row13_col12, #T_f9b6e_row14_col15 {\n",
       "  background-color: #536edd;\n",
       "  color: #f1f1f1;\n",
       "}\n",
       "#T_f9b6e_row10_col11, #T_f9b6e_row10_col12, #T_f9b6e_row11_col12, #T_f9b6e_row14_col10, #T_f9b6e_row14_col11, #T_f9b6e_row15_col10, #T_f9b6e_row15_col14 {\n",
       "  background-color: #516ddb;\n",
       "  color: #f1f1f1;\n",
       "}\n",
       "#T_f9b6e_row11_col0 {\n",
       "  background-color: #90b2fe;\n",
       "  color: #000000;\n",
       "}\n",
       "#T_f9b6e_row11_col6 {\n",
       "  background-color: #9bbcff;\n",
       "  color: #000000;\n",
       "}\n",
       "#T_f9b6e_row13_col1, #T_f9b6e_row18_col3, #T_f9b6e_row18_col14, #T_f9b6e_row18_col15 {\n",
       "  background-color: #445acc;\n",
       "  color: #f1f1f1;\n",
       "}\n",
       "#T_f9b6e_row14_col6 {\n",
       "  background-color: #97b8ff;\n",
       "  color: #000000;\n",
       "}\n",
       "#T_f9b6e_row16_col6, #T_f9b6e_row17_col0, #T_f9b6e_row17_col6 {\n",
       "  background-color: #9abbff;\n",
       "  color: #000000;\n",
       "}\n",
       "#T_f9b6e_row17_col1, #T_f9b6e_row17_col10, #T_f9b6e_row17_col11, #T_f9b6e_row17_col12, #T_f9b6e_row17_col14 {\n",
       "  background-color: #465ecf;\n",
       "  color: #f1f1f1;\n",
       "}\n",
       "#T_f9b6e_row17_col13, #T_f9b6e_row18_col1, #T_f9b6e_row18_col9 {\n",
       "  background-color: #455cce;\n",
       "  color: #f1f1f1;\n",
       "}\n",
       "#T_f9b6e_row17_col15 {\n",
       "  background-color: #485fd1;\n",
       "  color: #f1f1f1;\n",
       "}\n",
       "</style>\n",
       "<table id=\"T_f9b6e\">\n",
       "  <thead>\n",
       "    <tr>\n",
       "      <th class=\"blank level0\" >&nbsp;</th>\n",
       "      <th id=\"T_f9b6e_level0_col0\" class=\"col_heading level0 col0\" >satisfaction_level</th>\n",
       "      <th id=\"T_f9b6e_level0_col1\" class=\"col_heading level0 col1\" >last_evaluation</th>\n",
       "      <th id=\"T_f9b6e_level0_col2\" class=\"col_heading level0 col2\" >number_project</th>\n",
       "      <th id=\"T_f9b6e_level0_col3\" class=\"col_heading level0 col3\" >average_montly_hours</th>\n",
       "      <th id=\"T_f9b6e_level0_col4\" class=\"col_heading level0 col4\" >time_spend_company</th>\n",
       "      <th id=\"T_f9b6e_level0_col5\" class=\"col_heading level0 col5\" >Work_accident</th>\n",
       "      <th id=\"T_f9b6e_level0_col6\" class=\"col_heading level0 col6\" >left</th>\n",
       "      <th id=\"T_f9b6e_level0_col7\" class=\"col_heading level0 col7\" >promotion_last_5years</th>\n",
       "      <th id=\"T_f9b6e_level0_col8\" class=\"col_heading level0 col8\" >salary</th>\n",
       "      <th id=\"T_f9b6e_level0_col9\" class=\"col_heading level0 col9\" >IT</th>\n",
       "      <th id=\"T_f9b6e_level0_col10\" class=\"col_heading level0 col10\" >RandD</th>\n",
       "      <th id=\"T_f9b6e_level0_col11\" class=\"col_heading level0 col11\" >accounting</th>\n",
       "      <th id=\"T_f9b6e_level0_col12\" class=\"col_heading level0 col12\" >hr</th>\n",
       "      <th id=\"T_f9b6e_level0_col13\" class=\"col_heading level0 col13\" >management</th>\n",
       "      <th id=\"T_f9b6e_level0_col14\" class=\"col_heading level0 col14\" >marketing</th>\n",
       "      <th id=\"T_f9b6e_level0_col15\" class=\"col_heading level0 col15\" >product_mng</th>\n",
       "      <th id=\"T_f9b6e_level0_col16\" class=\"col_heading level0 col16\" >sales</th>\n",
       "      <th id=\"T_f9b6e_level0_col17\" class=\"col_heading level0 col17\" >support</th>\n",
       "      <th id=\"T_f9b6e_level0_col18\" class=\"col_heading level0 col18\" >technical</th>\n",
       "    </tr>\n",
       "  </thead>\n",
       "  <tbody>\n",
       "    <tr>\n",
       "      <th id=\"T_f9b6e_level0_row0\" class=\"row_heading level0 row0\" >satisfaction_level</th>\n",
       "      <td id=\"T_f9b6e_row0_col0\" class=\"data row0 col0\" >1.000000</td>\n",
       "      <td id=\"T_f9b6e_row0_col1\" class=\"data row0 col1\" >0.105021</td>\n",
       "      <td id=\"T_f9b6e_row0_col2\" class=\"data row0 col2\" >-0.142970</td>\n",
       "      <td id=\"T_f9b6e_row0_col3\" class=\"data row0 col3\" >-0.020048</td>\n",
       "      <td id=\"T_f9b6e_row0_col4\" class=\"data row0 col4\" >-0.100866</td>\n",
       "      <td id=\"T_f9b6e_row0_col5\" class=\"data row0 col5\" >0.058697</td>\n",
       "      <td id=\"T_f9b6e_row0_col6\" class=\"data row0 col6\" >-0.388375</td>\n",
       "      <td id=\"T_f9b6e_row0_col7\" class=\"data row0 col7\" >0.025605</td>\n",
       "      <td id=\"T_f9b6e_row0_col8\" class=\"data row0 col8\" >0.050022</td>\n",
       "      <td id=\"T_f9b6e_row0_col9\" class=\"data row0 col9\" >0.006373</td>\n",
       "      <td id=\"T_f9b6e_row0_col10\" class=\"data row0 col10\" >0.006615</td>\n",
       "      <td id=\"T_f9b6e_row0_col11\" class=\"data row0 col11\" >-0.028649</td>\n",
       "      <td id=\"T_f9b6e_row0_col12\" class=\"data row0 col12\" >-0.012841</td>\n",
       "      <td id=\"T_f9b6e_row0_col13\" class=\"data row0 col13\" >0.007172</td>\n",
       "      <td id=\"T_f9b6e_row0_col14\" class=\"data row0 col14\" >0.005715</td>\n",
       "      <td id=\"T_f9b6e_row0_col15\" class=\"data row0 col15\" >0.006919</td>\n",
       "      <td id=\"T_f9b6e_row0_col16\" class=\"data row0 col16\" >0.004007</td>\n",
       "      <td id=\"T_f9b6e_row0_col17\" class=\"data row0 col17\" >0.009185</td>\n",
       "      <td id=\"T_f9b6e_row0_col18\" class=\"data row0 col18\" >-0.009345</td>\n",
       "    </tr>\n",
       "    <tr>\n",
       "      <th id=\"T_f9b6e_level0_row1\" class=\"row_heading level0 row1\" >last_evaluation</th>\n",
       "      <td id=\"T_f9b6e_row1_col0\" class=\"data row1 col0\" >0.105021</td>\n",
       "      <td id=\"T_f9b6e_row1_col1\" class=\"data row1 col1\" >1.000000</td>\n",
       "      <td id=\"T_f9b6e_row1_col2\" class=\"data row1 col2\" >0.349333</td>\n",
       "      <td id=\"T_f9b6e_row1_col3\" class=\"data row1 col3\" >0.339742</td>\n",
       "      <td id=\"T_f9b6e_row1_col4\" class=\"data row1 col4\" >0.131591</td>\n",
       "      <td id=\"T_f9b6e_row1_col5\" class=\"data row1 col5\" >-0.007104</td>\n",
       "      <td id=\"T_f9b6e_row1_col6\" class=\"data row1 col6\" >0.006567</td>\n",
       "      <td id=\"T_f9b6e_row1_col7\" class=\"data row1 col7\" >-0.008684</td>\n",
       "      <td id=\"T_f9b6e_row1_col8\" class=\"data row1 col8\" >-0.013002</td>\n",
       "      <td id=\"T_f9b6e_row1_col9\" class=\"data row1 col9\" >0.001269</td>\n",
       "      <td id=\"T_f9b6e_row1_col10\" class=\"data row1 col10\" >-0.005471</td>\n",
       "      <td id=\"T_f9b6e_row1_col11\" class=\"data row1 col11\" >0.002193</td>\n",
       "      <td id=\"T_f9b6e_row1_col12\" class=\"data row1 col12\" >-0.009645</td>\n",
       "      <td id=\"T_f9b6e_row1_col13\" class=\"data row1 col13\" >0.009662</td>\n",
       "      <td id=\"T_f9b6e_row1_col14\" class=\"data row1 col14\" >-0.000311</td>\n",
       "      <td id=\"T_f9b6e_row1_col15\" class=\"data row1 col15\" >-0.001989</td>\n",
       "      <td id=\"T_f9b6e_row1_col16\" class=\"data row1 col16\" >-0.023031</td>\n",
       "      <td id=\"T_f9b6e_row1_col17\" class=\"data row1 col17\" >0.017104</td>\n",
       "      <td id=\"T_f9b6e_row1_col18\" class=\"data row1 col18\" >0.013742</td>\n",
       "    </tr>\n",
       "    <tr>\n",
       "      <th id=\"T_f9b6e_level0_row2\" class=\"row_heading level0 row2\" >number_project</th>\n",
       "      <td id=\"T_f9b6e_row2_col0\" class=\"data row2 col0\" >-0.142970</td>\n",
       "      <td id=\"T_f9b6e_row2_col1\" class=\"data row2 col1\" >0.349333</td>\n",
       "      <td id=\"T_f9b6e_row2_col2\" class=\"data row2 col2\" >1.000000</td>\n",
       "      <td id=\"T_f9b6e_row2_col3\" class=\"data row2 col3\" >0.417211</td>\n",
       "      <td id=\"T_f9b6e_row2_col4\" class=\"data row2 col4\" >0.196786</td>\n",
       "      <td id=\"T_f9b6e_row2_col5\" class=\"data row2 col5\" >-0.004741</td>\n",
       "      <td id=\"T_f9b6e_row2_col6\" class=\"data row2 col6\" >0.023787</td>\n",
       "      <td id=\"T_f9b6e_row2_col7\" class=\"data row2 col7\" >-0.006064</td>\n",
       "      <td id=\"T_f9b6e_row2_col8\" class=\"data row2 col8\" >-0.001803</td>\n",
       "      <td id=\"T_f9b6e_row2_col9\" class=\"data row2 col9\" >0.003287</td>\n",
       "      <td id=\"T_f9b6e_row2_col10\" class=\"data row2 col10\" >0.009703</td>\n",
       "      <td id=\"T_f9b6e_row2_col11\" class=\"data row2 col11\" >0.004189</td>\n",
       "      <td id=\"T_f9b6e_row2_col12\" class=\"data row2 col12\" >-0.027356</td>\n",
       "      <td id=\"T_f9b6e_row2_col13\" class=\"data row2 col13\" >0.009728</td>\n",
       "      <td id=\"T_f9b6e_row2_col14\" class=\"data row2 col14\" >-0.023064</td>\n",
       "      <td id=\"T_f9b6e_row2_col15\" class=\"data row2 col15\" >0.000829</td>\n",
       "      <td id=\"T_f9b6e_row2_col16\" class=\"data row2 col16\" >-0.013388</td>\n",
       "      <td id=\"T_f9b6e_row2_col17\" class=\"data row2 col17\" >0.000303</td>\n",
       "      <td id=\"T_f9b6e_row2_col18\" class=\"data row2 col18\" >0.028596</td>\n",
       "    </tr>\n",
       "    <tr>\n",
       "      <th id=\"T_f9b6e_level0_row3\" class=\"row_heading level0 row3\" >average_montly_hours</th>\n",
       "      <td id=\"T_f9b6e_row3_col0\" class=\"data row3 col0\" >-0.020048</td>\n",
       "      <td id=\"T_f9b6e_row3_col1\" class=\"data row3 col1\" >0.339742</td>\n",
       "      <td id=\"T_f9b6e_row3_col2\" class=\"data row3 col2\" >0.417211</td>\n",
       "      <td id=\"T_f9b6e_row3_col3\" class=\"data row3 col3\" >1.000000</td>\n",
       "      <td id=\"T_f9b6e_row3_col4\" class=\"data row3 col4\" >0.127755</td>\n",
       "      <td id=\"T_f9b6e_row3_col5\" class=\"data row3 col5\" >-0.010143</td>\n",
       "      <td id=\"T_f9b6e_row3_col6\" class=\"data row3 col6\" >0.071287</td>\n",
       "      <td id=\"T_f9b6e_row3_col7\" class=\"data row3 col7\" >-0.003544</td>\n",
       "      <td id=\"T_f9b6e_row3_col8\" class=\"data row3 col8\" >-0.002242</td>\n",
       "      <td id=\"T_f9b6e_row3_col9\" class=\"data row3 col9\" >0.006967</td>\n",
       "      <td id=\"T_f9b6e_row3_col10\" class=\"data row3 col10\" >-0.001177</td>\n",
       "      <td id=\"T_f9b6e_row3_col11\" class=\"data row3 col11\" >0.000524</td>\n",
       "      <td id=\"T_f9b6e_row3_col12\" class=\"data row3 col12\" >-0.010783</td>\n",
       "      <td id=\"T_f9b6e_row3_col13\" class=\"data row3 col13\" >0.000834</td>\n",
       "      <td id=\"T_f9b6e_row3_col14\" class=\"data row3 col14\" >-0.008210</td>\n",
       "      <td id=\"T_f9b6e_row3_col15\" class=\"data row3 col15\" >-0.005494</td>\n",
       "      <td id=\"T_f9b6e_row3_col16\" class=\"data row3 col16\" >-0.001718</td>\n",
       "      <td id=\"T_f9b6e_row3_col17\" class=\"data row3 col17\" >-0.002444</td>\n",
       "      <td id=\"T_f9b6e_row3_col18\" class=\"data row3 col18\" >0.013638</td>\n",
       "    </tr>\n",
       "    <tr>\n",
       "      <th id=\"T_f9b6e_level0_row4\" class=\"row_heading level0 row4\" >time_spend_company</th>\n",
       "      <td id=\"T_f9b6e_row4_col0\" class=\"data row4 col0\" >-0.100866</td>\n",
       "      <td id=\"T_f9b6e_row4_col1\" class=\"data row4 col1\" >0.131591</td>\n",
       "      <td id=\"T_f9b6e_row4_col2\" class=\"data row4 col2\" >0.196786</td>\n",
       "      <td id=\"T_f9b6e_row4_col3\" class=\"data row4 col3\" >0.127755</td>\n",
       "      <td id=\"T_f9b6e_row4_col4\" class=\"data row4 col4\" >1.000000</td>\n",
       "      <td id=\"T_f9b6e_row4_col5\" class=\"data row4 col5\" >0.002120</td>\n",
       "      <td id=\"T_f9b6e_row4_col6\" class=\"data row4 col6\" >0.144822</td>\n",
       "      <td id=\"T_f9b6e_row4_col7\" class=\"data row4 col7\" >0.067433</td>\n",
       "      <td id=\"T_f9b6e_row4_col8\" class=\"data row4 col8\" >0.048715</td>\n",
       "      <td id=\"T_f9b6e_row4_col9\" class=\"data row4 col9\" >-0.006053</td>\n",
       "      <td id=\"T_f9b6e_row4_col10\" class=\"data row4 col10\" >-0.021116</td>\n",
       "      <td id=\"T_f9b6e_row4_col11\" class=\"data row4 col11\" >0.003909</td>\n",
       "      <td id=\"T_f9b6e_row4_col12\" class=\"data row4 col12\" >-0.022194</td>\n",
       "      <td id=\"T_f9b6e_row4_col13\" class=\"data row4 col13\" >0.115436</td>\n",
       "      <td id=\"T_f9b6e_row4_col14\" class=\"data row4 col14\" >0.012096</td>\n",
       "      <td id=\"T_f9b6e_row4_col15\" class=\"data row4 col15\" >-0.003919</td>\n",
       "      <td id=\"T_f9b6e_row4_col16\" class=\"data row4 col16\" >0.015150</td>\n",
       "      <td id=\"T_f9b6e_row4_col17\" class=\"data row4 col17\" >-0.030111</td>\n",
       "      <td id=\"T_f9b6e_row4_col18\" class=\"data row4 col18\" >-0.027991</td>\n",
       "    </tr>\n",
       "    <tr>\n",
       "      <th id=\"T_f9b6e_level0_row5\" class=\"row_heading level0 row5\" >Work_accident</th>\n",
       "      <td id=\"T_f9b6e_row5_col0\" class=\"data row5 col0\" >0.058697</td>\n",
       "      <td id=\"T_f9b6e_row5_col1\" class=\"data row5 col1\" >-0.007104</td>\n",
       "      <td id=\"T_f9b6e_row5_col2\" class=\"data row5 col2\" >-0.004741</td>\n",
       "      <td id=\"T_f9b6e_row5_col3\" class=\"data row5 col3\" >-0.010143</td>\n",
       "      <td id=\"T_f9b6e_row5_col4\" class=\"data row5 col4\" >0.002120</td>\n",
       "      <td id=\"T_f9b6e_row5_col5\" class=\"data row5 col5\" >1.000000</td>\n",
       "      <td id=\"T_f9b6e_row5_col6\" class=\"data row5 col6\" >-0.154622</td>\n",
       "      <td id=\"T_f9b6e_row5_col7\" class=\"data row5 col7\" >0.039245</td>\n",
       "      <td id=\"T_f9b6e_row5_col8\" class=\"data row5 col8\" >0.009247</td>\n",
       "      <td id=\"T_f9b6e_row5_col9\" class=\"data row5 col9\" >-0.009293</td>\n",
       "      <td id=\"T_f9b6e_row5_col10\" class=\"data row5 col10\" >0.017167</td>\n",
       "      <td id=\"T_f9b6e_row5_col11\" class=\"data row5 col11\" >-0.012836</td>\n",
       "      <td id=\"T_f9b6e_row5_col12\" class=\"data row5 col12\" >-0.015649</td>\n",
       "      <td id=\"T_f9b6e_row5_col13\" class=\"data row5 col13\" >0.011242</td>\n",
       "      <td id=\"T_f9b6e_row5_col14\" class=\"data row5 col14\" >0.011367</td>\n",
       "      <td id=\"T_f9b6e_row5_col15\" class=\"data row5 col15\" >0.001246</td>\n",
       "      <td id=\"T_f9b6e_row5_col16\" class=\"data row5 col16\" >-0.004955</td>\n",
       "      <td id=\"T_f9b6e_row5_col17\" class=\"data row5 col17\" >0.012079</td>\n",
       "      <td id=\"T_f9b6e_row5_col18\" class=\"data row5 col18\" >-0.006070</td>\n",
       "    </tr>\n",
       "    <tr>\n",
       "      <th id=\"T_f9b6e_level0_row6\" class=\"row_heading level0 row6\" >left</th>\n",
       "      <td id=\"T_f9b6e_row6_col0\" class=\"data row6 col0\" >-0.388375</td>\n",
       "      <td id=\"T_f9b6e_row6_col1\" class=\"data row6 col1\" >0.006567</td>\n",
       "      <td id=\"T_f9b6e_row6_col2\" class=\"data row6 col2\" >0.023787</td>\n",
       "      <td id=\"T_f9b6e_row6_col3\" class=\"data row6 col3\" >0.071287</td>\n",
       "      <td id=\"T_f9b6e_row6_col4\" class=\"data row6 col4\" >0.144822</td>\n",
       "      <td id=\"T_f9b6e_row6_col5\" class=\"data row6 col5\" >-0.154622</td>\n",
       "      <td id=\"T_f9b6e_row6_col6\" class=\"data row6 col6\" >1.000000</td>\n",
       "      <td id=\"T_f9b6e_row6_col7\" class=\"data row6 col7\" >-0.061788</td>\n",
       "      <td id=\"T_f9b6e_row6_col8\" class=\"data row6 col8\" >-0.157898</td>\n",
       "      <td id=\"T_f9b6e_row6_col9\" class=\"data row6 col9\" >-0.010925</td>\n",
       "      <td id=\"T_f9b6e_row6_col10\" class=\"data row6 col10\" >-0.046596</td>\n",
       "      <td id=\"T_f9b6e_row6_col11\" class=\"data row6 col11\" >0.015201</td>\n",
       "      <td id=\"T_f9b6e_row6_col12\" class=\"data row6 col12\" >0.028249</td>\n",
       "      <td id=\"T_f9b6e_row6_col13\" class=\"data row6 col13\" >-0.046035</td>\n",
       "      <td id=\"T_f9b6e_row6_col14\" class=\"data row6 col14\" >-0.000859</td>\n",
       "      <td id=\"T_f9b6e_row6_col15\" class=\"data row6 col15\" >-0.011029</td>\n",
       "      <td id=\"T_f9b6e_row6_col16\" class=\"data row6 col16\" >0.009923</td>\n",
       "      <td id=\"T_f9b6e_row6_col17\" class=\"data row6 col17\" >0.010700</td>\n",
       "      <td id=\"T_f9b6e_row6_col18\" class=\"data row6 col18\" >0.020076</td>\n",
       "    </tr>\n",
       "    <tr>\n",
       "      <th id=\"T_f9b6e_level0_row7\" class=\"row_heading level0 row7\" >promotion_last_5years</th>\n",
       "      <td id=\"T_f9b6e_row7_col0\" class=\"data row7 col0\" >0.025605</td>\n",
       "      <td id=\"T_f9b6e_row7_col1\" class=\"data row7 col1\" >-0.008684</td>\n",
       "      <td id=\"T_f9b6e_row7_col2\" class=\"data row7 col2\" >-0.006064</td>\n",
       "      <td id=\"T_f9b6e_row7_col3\" class=\"data row7 col3\" >-0.003544</td>\n",
       "      <td id=\"T_f9b6e_row7_col4\" class=\"data row7 col4\" >0.067433</td>\n",
       "      <td id=\"T_f9b6e_row7_col5\" class=\"data row7 col5\" >0.039245</td>\n",
       "      <td id=\"T_f9b6e_row7_col6\" class=\"data row7 col6\" >-0.061788</td>\n",
       "      <td id=\"T_f9b6e_row7_col7\" class=\"data row7 col7\" >1.000000</td>\n",
       "      <td id=\"T_f9b6e_row7_col8\" class=\"data row7 col8\" >0.098119</td>\n",
       "      <td id=\"T_f9b6e_row7_col9\" class=\"data row7 col9\" >-0.038942</td>\n",
       "      <td id=\"T_f9b6e_row7_col10\" class=\"data row7 col10\" >0.021268</td>\n",
       "      <td id=\"T_f9b6e_row7_col11\" class=\"data row7 col11\" >-0.004852</td>\n",
       "      <td id=\"T_f9b6e_row7_col12\" class=\"data row7 col12\" >-0.001531</td>\n",
       "      <td id=\"T_f9b6e_row7_col13\" class=\"data row7 col13\" >0.128087</td>\n",
       "      <td id=\"T_f9b6e_row7_col14\" class=\"data row7 col14\" >0.049253</td>\n",
       "      <td id=\"T_f9b6e_row7_col15\" class=\"data row7 col15\" >-0.037288</td>\n",
       "      <td id=\"T_f9b6e_row7_col16\" class=\"data row7 col16\" >0.012353</td>\n",
       "      <td id=\"T_f9b6e_row7_col17\" class=\"data row7 col17\" >-0.035605</td>\n",
       "      <td id=\"T_f9b6e_row7_col18\" class=\"data row7 col18\" >-0.035799</td>\n",
       "    </tr>\n",
       "    <tr>\n",
       "      <th id=\"T_f9b6e_level0_row8\" class=\"row_heading level0 row8\" >salary</th>\n",
       "      <td id=\"T_f9b6e_row8_col0\" class=\"data row8 col0\" >0.050022</td>\n",
       "      <td id=\"T_f9b6e_row8_col1\" class=\"data row8 col1\" >-0.013002</td>\n",
       "      <td id=\"T_f9b6e_row8_col2\" class=\"data row8 col2\" >-0.001803</td>\n",
       "      <td id=\"T_f9b6e_row8_col3\" class=\"data row8 col3\" >-0.002242</td>\n",
       "      <td id=\"T_f9b6e_row8_col4\" class=\"data row8 col4\" >0.048715</td>\n",
       "      <td id=\"T_f9b6e_row8_col5\" class=\"data row8 col5\" >0.009247</td>\n",
       "      <td id=\"T_f9b6e_row8_col6\" class=\"data row8 col6\" >-0.157898</td>\n",
       "      <td id=\"T_f9b6e_row8_col7\" class=\"data row8 col7\" >0.098119</td>\n",
       "      <td id=\"T_f9b6e_row8_col8\" class=\"data row8 col8\" >1.000000</td>\n",
       "      <td id=\"T_f9b6e_row8_col9\" class=\"data row8 col9\" >-0.010959</td>\n",
       "      <td id=\"T_f9b6e_row8_col10\" class=\"data row8 col10\" >0.002800</td>\n",
       "      <td id=\"T_f9b6e_row8_col11\" class=\"data row8 col11\" >0.012759</td>\n",
       "      <td id=\"T_f9b6e_row8_col12\" class=\"data row8 col12\" >0.004599</td>\n",
       "      <td id=\"T_f9b6e_row8_col13\" class=\"data row8 col13\" >0.156665</td>\n",
       "      <td id=\"T_f9b6e_row8_col14\" class=\"data row8 col14\" >0.011599</td>\n",
       "      <td id=\"T_f9b6e_row8_col15\" class=\"data row8 col15\" >-0.007669</td>\n",
       "      <td id=\"T_f9b6e_row8_col16\" class=\"data row8 col16\" >-0.035599</td>\n",
       "      <td id=\"T_f9b6e_row8_col17\" class=\"data row8 col17\" >-0.029888</td>\n",
       "      <td id=\"T_f9b6e_row8_col18\" class=\"data row8 col18\" >-0.018630</td>\n",
       "    </tr>\n",
       "    <tr>\n",
       "      <th id=\"T_f9b6e_level0_row9\" class=\"row_heading level0 row9\" >IT</th>\n",
       "      <td id=\"T_f9b6e_row9_col0\" class=\"data row9 col0\" >0.006373</td>\n",
       "      <td id=\"T_f9b6e_row9_col1\" class=\"data row9 col1\" >0.001269</td>\n",
       "      <td id=\"T_f9b6e_row9_col2\" class=\"data row9 col2\" >0.003287</td>\n",
       "      <td id=\"T_f9b6e_row9_col3\" class=\"data row9 col3\" >0.006967</td>\n",
       "      <td id=\"T_f9b6e_row9_col4\" class=\"data row9 col4\" >-0.006053</td>\n",
       "      <td id=\"T_f9b6e_row9_col5\" class=\"data row9 col5\" >-0.009293</td>\n",
       "      <td id=\"T_f9b6e_row9_col6\" class=\"data row9 col6\" >-0.010925</td>\n",
       "      <td id=\"T_f9b6e_row9_col7\" class=\"data row9 col7\" >-0.038942</td>\n",
       "      <td id=\"T_f9b6e_row9_col8\" class=\"data row9 col8\" >-0.010959</td>\n",
       "      <td id=\"T_f9b6e_row9_col9\" class=\"data row9 col9\" >1.000000</td>\n",
       "      <td id=\"T_f9b6e_row9_col10\" class=\"data row9 col10\" >-0.070240</td>\n",
       "      <td id=\"T_f9b6e_row9_col11\" class=\"data row9 col11\" >-0.069293</td>\n",
       "      <td id=\"T_f9b6e_row9_col12\" class=\"data row9 col12\" >-0.067949</td>\n",
       "      <td id=\"T_f9b6e_row9_col13\" class=\"data row9 col13\" >-0.062500</td>\n",
       "      <td id=\"T_f9b6e_row9_col14\" class=\"data row9 col14\" >-0.073524</td>\n",
       "      <td id=\"T_f9b6e_row9_col15\" class=\"data row9 col15\" >-0.075503</td>\n",
       "      <td id=\"T_f9b6e_row9_col16\" class=\"data row9 col16\" >-0.184302</td>\n",
       "      <td id=\"T_f9b6e_row9_col17\" class=\"data row9 col17\" >-0.124705</td>\n",
       "      <td id=\"T_f9b6e_row9_col18\" class=\"data row9 col18\" >-0.140484</td>\n",
       "    </tr>\n",
       "    <tr>\n",
       "      <th id=\"T_f9b6e_level0_row10\" class=\"row_heading level0 row10\" >RandD</th>\n",
       "      <td id=\"T_f9b6e_row10_col0\" class=\"data row10 col0\" >0.006615</td>\n",
       "      <td id=\"T_f9b6e_row10_col1\" class=\"data row10 col1\" >-0.005471</td>\n",
       "      <td id=\"T_f9b6e_row10_col2\" class=\"data row10 col2\" >0.009703</td>\n",
       "      <td id=\"T_f9b6e_row10_col3\" class=\"data row10 col3\" >-0.001177</td>\n",
       "      <td id=\"T_f9b6e_row10_col4\" class=\"data row10 col4\" >-0.021116</td>\n",
       "      <td id=\"T_f9b6e_row10_col5\" class=\"data row10 col5\" >0.017167</td>\n",
       "      <td id=\"T_f9b6e_row10_col6\" class=\"data row10 col6\" >-0.046596</td>\n",
       "      <td id=\"T_f9b6e_row10_col7\" class=\"data row10 col7\" >0.021268</td>\n",
       "      <td id=\"T_f9b6e_row10_col8\" class=\"data row10 col8\" >0.002800</td>\n",
       "      <td id=\"T_f9b6e_row10_col9\" class=\"data row10 col9\" >-0.070240</td>\n",
       "      <td id=\"T_f9b6e_row10_col10\" class=\"data row10 col10\" >1.000000</td>\n",
       "      <td id=\"T_f9b6e_row10_col11\" class=\"data row10 col11\" >-0.054629</td>\n",
       "      <td id=\"T_f9b6e_row10_col12\" class=\"data row10 col12\" >-0.053570</td>\n",
       "      <td id=\"T_f9b6e_row10_col13\" class=\"data row10 col13\" >-0.049274</td>\n",
       "      <td id=\"T_f9b6e_row10_col14\" class=\"data row10 col14\" >-0.057965</td>\n",
       "      <td id=\"T_f9b6e_row10_col15\" class=\"data row10 col15\" >-0.059525</td>\n",
       "      <td id=\"T_f9b6e_row10_col16\" class=\"data row10 col16\" >-0.145300</td>\n",
       "      <td id=\"T_f9b6e_row10_col17\" class=\"data row10 col17\" >-0.098315</td>\n",
       "      <td id=\"T_f9b6e_row10_col18\" class=\"data row10 col18\" >-0.110755</td>\n",
       "    </tr>\n",
       "    <tr>\n",
       "      <th id=\"T_f9b6e_level0_row11\" class=\"row_heading level0 row11\" >accounting</th>\n",
       "      <td id=\"T_f9b6e_row11_col0\" class=\"data row11 col0\" >-0.028649</td>\n",
       "      <td id=\"T_f9b6e_row11_col1\" class=\"data row11 col1\" >0.002193</td>\n",
       "      <td id=\"T_f9b6e_row11_col2\" class=\"data row11 col2\" >0.004189</td>\n",
       "      <td id=\"T_f9b6e_row11_col3\" class=\"data row11 col3\" >0.000524</td>\n",
       "      <td id=\"T_f9b6e_row11_col4\" class=\"data row11 col4\" >0.003909</td>\n",
       "      <td id=\"T_f9b6e_row11_col5\" class=\"data row11 col5\" >-0.012836</td>\n",
       "      <td id=\"T_f9b6e_row11_col6\" class=\"data row11 col6\" >0.015201</td>\n",
       "      <td id=\"T_f9b6e_row11_col7\" class=\"data row11 col7\" >-0.004852</td>\n",
       "      <td id=\"T_f9b6e_row11_col8\" class=\"data row11 col8\" >0.012759</td>\n",
       "      <td id=\"T_f9b6e_row11_col9\" class=\"data row11 col9\" >-0.069293</td>\n",
       "      <td id=\"T_f9b6e_row11_col10\" class=\"data row11 col10\" >-0.054629</td>\n",
       "      <td id=\"T_f9b6e_row11_col11\" class=\"data row11 col11\" >1.000000</td>\n",
       "      <td id=\"T_f9b6e_row11_col12\" class=\"data row11 col12\" >-0.052848</td>\n",
       "      <td id=\"T_f9b6e_row11_col13\" class=\"data row11 col13\" >-0.048610</td>\n",
       "      <td id=\"T_f9b6e_row11_col14\" class=\"data row11 col14\" >-0.057183</td>\n",
       "      <td id=\"T_f9b6e_row11_col15\" class=\"data row11 col15\" >-0.058723</td>\n",
       "      <td id=\"T_f9b6e_row11_col16\" class=\"data row11 col16\" >-0.143341</td>\n",
       "      <td id=\"T_f9b6e_row11_col17\" class=\"data row11 col17\" >-0.096989</td>\n",
       "      <td id=\"T_f9b6e_row11_col18\" class=\"data row11 col18\" >-0.109262</td>\n",
       "    </tr>\n",
       "    <tr>\n",
       "      <th id=\"T_f9b6e_level0_row12\" class=\"row_heading level0 row12\" >hr</th>\n",
       "      <td id=\"T_f9b6e_row12_col0\" class=\"data row12 col0\" >-0.012841</td>\n",
       "      <td id=\"T_f9b6e_row12_col1\" class=\"data row12 col1\" >-0.009645</td>\n",
       "      <td id=\"T_f9b6e_row12_col2\" class=\"data row12 col2\" >-0.027356</td>\n",
       "      <td id=\"T_f9b6e_row12_col3\" class=\"data row12 col3\" >-0.010783</td>\n",
       "      <td id=\"T_f9b6e_row12_col4\" class=\"data row12 col4\" >-0.022194</td>\n",
       "      <td id=\"T_f9b6e_row12_col5\" class=\"data row12 col5\" >-0.015649</td>\n",
       "      <td id=\"T_f9b6e_row12_col6\" class=\"data row12 col6\" >0.028249</td>\n",
       "      <td id=\"T_f9b6e_row12_col7\" class=\"data row12 col7\" >-0.001531</td>\n",
       "      <td id=\"T_f9b6e_row12_col8\" class=\"data row12 col8\" >0.004599</td>\n",
       "      <td id=\"T_f9b6e_row12_col9\" class=\"data row12 col9\" >-0.067949</td>\n",
       "      <td id=\"T_f9b6e_row12_col10\" class=\"data row12 col10\" >-0.053570</td>\n",
       "      <td id=\"T_f9b6e_row12_col11\" class=\"data row12 col11\" >-0.052848</td>\n",
       "      <td id=\"T_f9b6e_row12_col12\" class=\"data row12 col12\" >1.000000</td>\n",
       "      <td id=\"T_f9b6e_row12_col13\" class=\"data row12 col13\" >-0.047667</td>\n",
       "      <td id=\"T_f9b6e_row12_col14\" class=\"data row12 col14\" >-0.056075</td>\n",
       "      <td id=\"T_f9b6e_row12_col15\" class=\"data row12 col15\" >-0.057584</td>\n",
       "      <td id=\"T_f9b6e_row12_col16\" class=\"data row12 col16\" >-0.140562</td>\n",
       "      <td id=\"T_f9b6e_row12_col17\" class=\"data row12 col17\" >-0.095109</td>\n",
       "      <td id=\"T_f9b6e_row12_col18\" class=\"data row12 col18\" >-0.107143</td>\n",
       "    </tr>\n",
       "    <tr>\n",
       "      <th id=\"T_f9b6e_level0_row13\" class=\"row_heading level0 row13\" >management</th>\n",
       "      <td id=\"T_f9b6e_row13_col0\" class=\"data row13 col0\" >0.007172</td>\n",
       "      <td id=\"T_f9b6e_row13_col1\" class=\"data row13 col1\" >0.009662</td>\n",
       "      <td id=\"T_f9b6e_row13_col2\" class=\"data row13 col2\" >0.009728</td>\n",
       "      <td id=\"T_f9b6e_row13_col3\" class=\"data row13 col3\" >0.000834</td>\n",
       "      <td id=\"T_f9b6e_row13_col4\" class=\"data row13 col4\" >0.115436</td>\n",
       "      <td id=\"T_f9b6e_row13_col5\" class=\"data row13 col5\" >0.011242</td>\n",
       "      <td id=\"T_f9b6e_row13_col6\" class=\"data row13 col6\" >-0.046035</td>\n",
       "      <td id=\"T_f9b6e_row13_col7\" class=\"data row13 col7\" >0.128087</td>\n",
       "      <td id=\"T_f9b6e_row13_col8\" class=\"data row13 col8\" >0.156665</td>\n",
       "      <td id=\"T_f9b6e_row13_col9\" class=\"data row13 col9\" >-0.062500</td>\n",
       "      <td id=\"T_f9b6e_row13_col10\" class=\"data row13 col10\" >-0.049274</td>\n",
       "      <td id=\"T_f9b6e_row13_col11\" class=\"data row13 col11\" >-0.048610</td>\n",
       "      <td id=\"T_f9b6e_row13_col12\" class=\"data row13 col12\" >-0.047667</td>\n",
       "      <td id=\"T_f9b6e_row13_col13\" class=\"data row13 col13\" >1.000000</td>\n",
       "      <td id=\"T_f9b6e_row13_col14\" class=\"data row13 col14\" >-0.051578</td>\n",
       "      <td id=\"T_f9b6e_row13_col15\" class=\"data row13 col15\" >-0.052966</td>\n",
       "      <td id=\"T_f9b6e_row13_col16\" class=\"data row13 col16\" >-0.129289</td>\n",
       "      <td id=\"T_f9b6e_row13_col17\" class=\"data row13 col17\" >-0.087482</td>\n",
       "      <td id=\"T_f9b6e_row13_col18\" class=\"data row13 col18\" >-0.098551</td>\n",
       "    </tr>\n",
       "    <tr>\n",
       "      <th id=\"T_f9b6e_level0_row14\" class=\"row_heading level0 row14\" >marketing</th>\n",
       "      <td id=\"T_f9b6e_row14_col0\" class=\"data row14 col0\" >0.005715</td>\n",
       "      <td id=\"T_f9b6e_row14_col1\" class=\"data row14 col1\" >-0.000311</td>\n",
       "      <td id=\"T_f9b6e_row14_col2\" class=\"data row14 col2\" >-0.023064</td>\n",
       "      <td id=\"T_f9b6e_row14_col3\" class=\"data row14 col3\" >-0.008210</td>\n",
       "      <td id=\"T_f9b6e_row14_col4\" class=\"data row14 col4\" >0.012096</td>\n",
       "      <td id=\"T_f9b6e_row14_col5\" class=\"data row14 col5\" >0.011367</td>\n",
       "      <td id=\"T_f9b6e_row14_col6\" class=\"data row14 col6\" >-0.000859</td>\n",
       "      <td id=\"T_f9b6e_row14_col7\" class=\"data row14 col7\" >0.049253</td>\n",
       "      <td id=\"T_f9b6e_row14_col8\" class=\"data row14 col8\" >0.011599</td>\n",
       "      <td id=\"T_f9b6e_row14_col9\" class=\"data row14 col9\" >-0.073524</td>\n",
       "      <td id=\"T_f9b6e_row14_col10\" class=\"data row14 col10\" >-0.057965</td>\n",
       "      <td id=\"T_f9b6e_row14_col11\" class=\"data row14 col11\" >-0.057183</td>\n",
       "      <td id=\"T_f9b6e_row14_col12\" class=\"data row14 col12\" >-0.056075</td>\n",
       "      <td id=\"T_f9b6e_row14_col13\" class=\"data row14 col13\" >-0.051578</td>\n",
       "      <td id=\"T_f9b6e_row14_col14\" class=\"data row14 col14\" >1.000000</td>\n",
       "      <td id=\"T_f9b6e_row14_col15\" class=\"data row14 col15\" >-0.062308</td>\n",
       "      <td id=\"T_f9b6e_row14_col16\" class=\"data row14 col16\" >-0.152093</td>\n",
       "      <td id=\"T_f9b6e_row14_col17\" class=\"data row14 col17\" >-0.102911</td>\n",
       "      <td id=\"T_f9b6e_row14_col18\" class=\"data row14 col18\" >-0.115933</td>\n",
       "    </tr>\n",
       "    <tr>\n",
       "      <th id=\"T_f9b6e_level0_row15\" class=\"row_heading level0 row15\" >product_mng</th>\n",
       "      <td id=\"T_f9b6e_row15_col0\" class=\"data row15 col0\" >0.006919</td>\n",
       "      <td id=\"T_f9b6e_row15_col1\" class=\"data row15 col1\" >-0.001989</td>\n",
       "      <td id=\"T_f9b6e_row15_col2\" class=\"data row15 col2\" >0.000829</td>\n",
       "      <td id=\"T_f9b6e_row15_col3\" class=\"data row15 col3\" >-0.005494</td>\n",
       "      <td id=\"T_f9b6e_row15_col4\" class=\"data row15 col4\" >-0.003919</td>\n",
       "      <td id=\"T_f9b6e_row15_col5\" class=\"data row15 col5\" >0.001246</td>\n",
       "      <td id=\"T_f9b6e_row15_col6\" class=\"data row15 col6\" >-0.011029</td>\n",
       "      <td id=\"T_f9b6e_row15_col7\" class=\"data row15 col7\" >-0.037288</td>\n",
       "      <td id=\"T_f9b6e_row15_col8\" class=\"data row15 col8\" >-0.007669</td>\n",
       "      <td id=\"T_f9b6e_row15_col9\" class=\"data row15 col9\" >-0.075503</td>\n",
       "      <td id=\"T_f9b6e_row15_col10\" class=\"data row15 col10\" >-0.059525</td>\n",
       "      <td id=\"T_f9b6e_row15_col11\" class=\"data row15 col11\" >-0.058723</td>\n",
       "      <td id=\"T_f9b6e_row15_col12\" class=\"data row15 col12\" >-0.057584</td>\n",
       "      <td id=\"T_f9b6e_row15_col13\" class=\"data row15 col13\" >-0.052966</td>\n",
       "      <td id=\"T_f9b6e_row15_col14\" class=\"data row15 col14\" >-0.062308</td>\n",
       "      <td id=\"T_f9b6e_row15_col15\" class=\"data row15 col15\" >1.000000</td>\n",
       "      <td id=\"T_f9b6e_row15_col16\" class=\"data row15 col16\" >-0.156187</td>\n",
       "      <td id=\"T_f9b6e_row15_col17\" class=\"data row15 col17\" >-0.105682</td>\n",
       "      <td id=\"T_f9b6e_row15_col18\" class=\"data row15 col18\" >-0.119054</td>\n",
       "    </tr>\n",
       "    <tr>\n",
       "      <th id=\"T_f9b6e_level0_row16\" class=\"row_heading level0 row16\" >sales</th>\n",
       "      <td id=\"T_f9b6e_row16_col0\" class=\"data row16 col0\" >0.004007</td>\n",
       "      <td id=\"T_f9b6e_row16_col1\" class=\"data row16 col1\" >-0.023031</td>\n",
       "      <td id=\"T_f9b6e_row16_col2\" class=\"data row16 col2\" >-0.013388</td>\n",
       "      <td id=\"T_f9b6e_row16_col3\" class=\"data row16 col3\" >-0.001718</td>\n",
       "      <td id=\"T_f9b6e_row16_col4\" class=\"data row16 col4\" >0.015150</td>\n",
       "      <td id=\"T_f9b6e_row16_col5\" class=\"data row16 col5\" >-0.004955</td>\n",
       "      <td id=\"T_f9b6e_row16_col6\" class=\"data row16 col6\" >0.009923</td>\n",
       "      <td id=\"T_f9b6e_row16_col7\" class=\"data row16 col7\" >0.012353</td>\n",
       "      <td id=\"T_f9b6e_row16_col8\" class=\"data row16 col8\" >-0.035599</td>\n",
       "      <td id=\"T_f9b6e_row16_col9\" class=\"data row16 col9\" >-0.184302</td>\n",
       "      <td id=\"T_f9b6e_row16_col10\" class=\"data row16 col10\" >-0.145300</td>\n",
       "      <td id=\"T_f9b6e_row16_col11\" class=\"data row16 col11\" >-0.143341</td>\n",
       "      <td id=\"T_f9b6e_row16_col12\" class=\"data row16 col12\" >-0.140562</td>\n",
       "      <td id=\"T_f9b6e_row16_col13\" class=\"data row16 col13\" >-0.129289</td>\n",
       "      <td id=\"T_f9b6e_row16_col14\" class=\"data row16 col14\" >-0.152093</td>\n",
       "      <td id=\"T_f9b6e_row16_col15\" class=\"data row16 col15\" >-0.156187</td>\n",
       "      <td id=\"T_f9b6e_row16_col16\" class=\"data row16 col16\" >1.000000</td>\n",
       "      <td id=\"T_f9b6e_row16_col17\" class=\"data row16 col17\" >-0.257967</td>\n",
       "      <td id=\"T_f9b6e_row16_col18\" class=\"data row16 col18\" >-0.290608</td>\n",
       "    </tr>\n",
       "    <tr>\n",
       "      <th id=\"T_f9b6e_level0_row17\" class=\"row_heading level0 row17\" >support</th>\n",
       "      <td id=\"T_f9b6e_row17_col0\" class=\"data row17 col0\" >0.009185</td>\n",
       "      <td id=\"T_f9b6e_row17_col1\" class=\"data row17 col1\" >0.017104</td>\n",
       "      <td id=\"T_f9b6e_row17_col2\" class=\"data row17 col2\" >0.000303</td>\n",
       "      <td id=\"T_f9b6e_row17_col3\" class=\"data row17 col3\" >-0.002444</td>\n",
       "      <td id=\"T_f9b6e_row17_col4\" class=\"data row17 col4\" >-0.030111</td>\n",
       "      <td id=\"T_f9b6e_row17_col5\" class=\"data row17 col5\" >0.012079</td>\n",
       "      <td id=\"T_f9b6e_row17_col6\" class=\"data row17 col6\" >0.010700</td>\n",
       "      <td id=\"T_f9b6e_row17_col7\" class=\"data row17 col7\" >-0.035605</td>\n",
       "      <td id=\"T_f9b6e_row17_col8\" class=\"data row17 col8\" >-0.029888</td>\n",
       "      <td id=\"T_f9b6e_row17_col9\" class=\"data row17 col9\" >-0.124705</td>\n",
       "      <td id=\"T_f9b6e_row17_col10\" class=\"data row17 col10\" >-0.098315</td>\n",
       "      <td id=\"T_f9b6e_row17_col11\" class=\"data row17 col11\" >-0.096989</td>\n",
       "      <td id=\"T_f9b6e_row17_col12\" class=\"data row17 col12\" >-0.095109</td>\n",
       "      <td id=\"T_f9b6e_row17_col13\" class=\"data row17 col13\" >-0.087482</td>\n",
       "      <td id=\"T_f9b6e_row17_col14\" class=\"data row17 col14\" >-0.102911</td>\n",
       "      <td id=\"T_f9b6e_row17_col15\" class=\"data row17 col15\" >-0.105682</td>\n",
       "      <td id=\"T_f9b6e_row17_col16\" class=\"data row17 col16\" >-0.257967</td>\n",
       "      <td id=\"T_f9b6e_row17_col17\" class=\"data row17 col17\" >1.000000</td>\n",
       "      <td id=\"T_f9b6e_row17_col18\" class=\"data row17 col18\" >-0.196636</td>\n",
       "    </tr>\n",
       "    <tr>\n",
       "      <th id=\"T_f9b6e_level0_row18\" class=\"row_heading level0 row18\" >technical</th>\n",
       "      <td id=\"T_f9b6e_row18_col0\" class=\"data row18 col0\" >-0.009345</td>\n",
       "      <td id=\"T_f9b6e_row18_col1\" class=\"data row18 col1\" >0.013742</td>\n",
       "      <td id=\"T_f9b6e_row18_col2\" class=\"data row18 col2\" >0.028596</td>\n",
       "      <td id=\"T_f9b6e_row18_col3\" class=\"data row18 col3\" >0.013638</td>\n",
       "      <td id=\"T_f9b6e_row18_col4\" class=\"data row18 col4\" >-0.027991</td>\n",
       "      <td id=\"T_f9b6e_row18_col5\" class=\"data row18 col5\" >-0.006070</td>\n",
       "      <td id=\"T_f9b6e_row18_col6\" class=\"data row18 col6\" >0.020076</td>\n",
       "      <td id=\"T_f9b6e_row18_col7\" class=\"data row18 col7\" >-0.035799</td>\n",
       "      <td id=\"T_f9b6e_row18_col8\" class=\"data row18 col8\" >-0.018630</td>\n",
       "      <td id=\"T_f9b6e_row18_col9\" class=\"data row18 col9\" >-0.140484</td>\n",
       "      <td id=\"T_f9b6e_row18_col10\" class=\"data row18 col10\" >-0.110755</td>\n",
       "      <td id=\"T_f9b6e_row18_col11\" class=\"data row18 col11\" >-0.109262</td>\n",
       "      <td id=\"T_f9b6e_row18_col12\" class=\"data row18 col12\" >-0.107143</td>\n",
       "      <td id=\"T_f9b6e_row18_col13\" class=\"data row18 col13\" >-0.098551</td>\n",
       "      <td id=\"T_f9b6e_row18_col14\" class=\"data row18 col14\" >-0.115933</td>\n",
       "      <td id=\"T_f9b6e_row18_col15\" class=\"data row18 col15\" >-0.119054</td>\n",
       "      <td id=\"T_f9b6e_row18_col16\" class=\"data row18 col16\" >-0.290608</td>\n",
       "      <td id=\"T_f9b6e_row18_col17\" class=\"data row18 col17\" >-0.196636</td>\n",
       "      <td id=\"T_f9b6e_row18_col18\" class=\"data row18 col18\" >1.000000</td>\n",
       "    </tr>\n",
       "  </tbody>\n",
       "</table>\n"
      ],
      "text/plain": [
       "<pandas.io.formats.style.Styler at 0x26d3c9ba820>"
      ]
     },
     "execution_count": 79,
     "metadata": {},
     "output_type": "execute_result"
    }
   ],
   "source": [
    "corr = hr_data.corr()\n",
    "\n",
    "corr.style.background_gradient(cmap='coolwarm')"
   ]
  },
  {
   "cell_type": "code",
   "execution_count": 81,
   "id": "473ef36e",
   "metadata": {
    "scrolled": true
   },
   "outputs": [
    {
     "data": {
      "text/html": [
       "<div>\n",
       "<style scoped>\n",
       "    .dataframe tbody tr th:only-of-type {\n",
       "        vertical-align: middle;\n",
       "    }\n",
       "\n",
       "    .dataframe tbody tr th {\n",
       "        vertical-align: top;\n",
       "    }\n",
       "\n",
       "    .dataframe thead th {\n",
       "        text-align: right;\n",
       "    }\n",
       "</style>\n",
       "<table border=\"1\" class=\"dataframe\">\n",
       "  <thead>\n",
       "    <tr style=\"text-align: right;\">\n",
       "      <th></th>\n",
       "      <th>feature</th>\n",
       "      <th>VIF</th>\n",
       "    </tr>\n",
       "  </thead>\n",
       "  <tbody>\n",
       "    <tr>\n",
       "      <th>0</th>\n",
       "      <td>satisfaction_level</td>\n",
       "      <td>6.502732</td>\n",
       "    </tr>\n",
       "    <tr>\n",
       "      <th>1</th>\n",
       "      <td>last_evaluation</td>\n",
       "      <td>20.260156</td>\n",
       "    </tr>\n",
       "    <tr>\n",
       "      <th>2</th>\n",
       "      <td>number_project</td>\n",
       "      <td>13.861461</td>\n",
       "    </tr>\n",
       "    <tr>\n",
       "      <th>3</th>\n",
       "      <td>average_montly_hours</td>\n",
       "      <td>19.324363</td>\n",
       "    </tr>\n",
       "    <tr>\n",
       "      <th>4</th>\n",
       "      <td>time_spend_company</td>\n",
       "      <td>6.714344</td>\n",
       "    </tr>\n",
       "    <tr>\n",
       "      <th>5</th>\n",
       "      <td>Work_accident</td>\n",
       "      <td>1.172676</td>\n",
       "    </tr>\n",
       "    <tr>\n",
       "      <th>6</th>\n",
       "      <td>promotion_last_5years</td>\n",
       "      <td>1.037101</td>\n",
       "    </tr>\n",
       "    <tr>\n",
       "      <th>7</th>\n",
       "      <td>salary</td>\n",
       "      <td>6.393250</td>\n",
       "    </tr>\n",
       "  </tbody>\n",
       "</table>\n",
       "</div>"
      ],
      "text/plain": [
       "                 feature        VIF\n",
       "0     satisfaction_level   6.502732\n",
       "1        last_evaluation  20.260156\n",
       "2         number_project  13.861461\n",
       "3   average_montly_hours  19.324363\n",
       "4     time_spend_company   6.714344\n",
       "5          Work_accident   1.172676\n",
       "6  promotion_last_5years   1.037101\n",
       "7                 salary   6.393250"
      ]
     },
     "execution_count": 81,
     "metadata": {},
     "output_type": "execute_result"
    }
   ],
   "source": [
    "vif_data = hr_data.copy() #Creating a new df to look for multcollinearity.\n",
    "\n",
    "del_column = []\n",
    "\n",
    "for column in list(vif_data.columns[9:]):\n",
    "    del_column.append(column)\n",
    "\n",
    "for column in del_column:\n",
    "    del vif_data[column]\n",
    "    \n",
    "vif_data.columns\n",
    "\n",
    "del vif_data['left'] #Deleting the target column.\n",
    "\n",
    "X = hr_data[['satisfaction_level', 'last_evaluation', 'number_project', 'average_montly_hours', 'time_spend_company', 'Work_accident', 'promotion_last_5years', 'salary']] #Showing predictors\n",
    "vif_data = pd.DataFrame()\n",
    "vif_data[\"feature\"] = X.columns\n",
    "vif_data[\"VIF\"] = [variance_inflation_factor(X.values, i)\n",
    "                          for i in range(len(X.columns))]\n",
    "vif_data"
   ]
  },
  {
   "cell_type": "code",
   "execution_count": 82,
   "id": "3791654e",
   "metadata": {},
   "outputs": [
    {
     "data": {
      "image/png": "[encoded data removed]",
      "text/plain": [
       "<Figure size 1728x360 with 1 Axes>"
      ]
     },
     "metadata": {
      "needs_background": "light"
     },
     "output_type": "display_data"
    },
    {
     "data": {
      "image/png": "[encoded data removed]",
      "text/plain": [
       "<Figure size 1728x360 with 1 Axes>"
      ]
     },
     "metadata": {
      "needs_background": "light"
     },
     "output_type": "display_data"
    },
    {
     "data": {
      "image/png": "[encoded data removed]",
      "text/plain": [
       "<Figure size 1728x360 with 1 Axes>"
      ]
     },
     "metadata": {
      "needs_background": "light"
     },
     "output_type": "display_data"
    },
    {
     "data": {
      "image/png": "[encoded data removed]",
      "text/plain": [
       "<Figure size 1728x360 with 1 Axes>"
      ]
     },
     "metadata": {
      "needs_background": "light"
     },
     "output_type": "display_data"
    },
    {
     "data": {
      "image/png": "[encoded data removed]",
      "text/plain": [
       "<Figure size 1728x360 with 1 Axes>"
      ]
     },
     "metadata": {
      "needs_background": "light"
     },
     "output_type": "display_data"
    },
    {
     "data": {
      "image/png": "[encoded data removed]",
      "text/plain": [
       "<Figure size 1728x360 with 1 Axes>"
      ]
     },
     "metadata": {
      "needs_background": "light"
     },
     "output_type": "display_data"
    },
    {
     "data": {
      "image/png": "[encoded data removed]",
      "text/plain": [
       "<Figure size 1728x360 with 1 Axes>"
      ]
     },
     "metadata": {
      "needs_background": "light"
     },
     "output_type": "display_data"
    },
    {
     "data": {
      "image/png": "[encoded data removed]",
      "text/plain": [
       "<Figure size 1728x360 with 1 Axes>"
      ]
     },
     "metadata": {
      "needs_background": "light"
     },
     "output_type": "display_data"
    },
    {
     "data": {
      "image/png": "[encoded data removed]",
      "text/plain": [
       "<Figure size 1728x360 with 1 Axes>"
      ]
     },
     "metadata": {
      "needs_background": "light"
     },
     "output_type": "display_data"
    },
    {
     "data": {
      "image/png": "[encoded data removed]",
      "text/plain": [
       "<Figure size 1728x360 with 1 Axes>"
      ]
     },
     "metadata": {
      "needs_background": "light"
     },
     "output_type": "display_data"
    },
    {
     "data": {
      "image/png": "[encoded data removed]",
      "text/plain": [
       "<Figure size 1728x360 with 1 Axes>"
      ]
     },
     "metadata": {
      "needs_background": "light"
     },
     "output_type": "display_data"
    },
    {
     "data": {
      "image/png": "[encoded data removed]",
      "text/plain": [
       "<Figure size 1728x360 with 1 Axes>"
      ]
     },
     "metadata": {
      "needs_background": "light"
     },
     "output_type": "display_data"
    },
    {
     "data": {
      "image/png": "[encoded data removed]",
      "text/plain": [
       "<Figure size 1728x360 with 1 Axes>"
      ]
     },
     "metadata": {
      "needs_background": "light"
     },
     "output_type": "display_data"
    },
    {
     "data": {
      "image/png": "[encoded data removed]",
      "text/plain": [
       "<Figure size 1728x360 with 1 Axes>"
      ]
     },
     "metadata": {
      "needs_background": "light"
     },
     "output_type": "display_data"
    },
    {
     "data": {
      "image/png": "[encoded data removed]",
      "text/plain": [
       "<Figure size 1728x360 with 1 Axes>"
      ]
     },
     "metadata": {
      "needs_background": "light"
     },
     "output_type": "display_data"
    },
    {
     "data": {
      "image/png": "[encoded data removed]",
      "text/plain": [
       "<Figure size 1728x360 with 1 Axes>"
      ]
     },
     "metadata": {
      "needs_background": "light"
     },
     "output_type": "display_data"
    },
    {
     "data": {
      "image/png": "[encoded data removed]",
      "text/plain": [
       "<Figure size 1728x360 with 1 Axes>"
      ]
     },
     "metadata": {
      "needs_background": "light"
     },
     "output_type": "display_data"
    },
    {
     "data": {
      "image/png": "[encoded data removed]",
      "text/plain": [
       "<Figure size 1728x360 with 1 Axes>"
      ]
     },
     "metadata": {
      "needs_background": "light"
     },
     "output_type": "display_data"
    }
   ],
   "source": [
    "for predictor in predictors:\n",
    "    plt.rcParams[\"figure.figsize\"] = [24, 5]\n",
    "    plt.rcParams[\"figure.autolayout\"] = True\n",
    "    bar_plot = sns.barplot(x=predictor, y='left', data=hr_data)\n",
    "    if predictor == 'satisfaction_level' or predictor == 'last_evaluation' or 'average_montly_hours':\n",
    "        plt.xticks(rotation = 45) \n",
    "        for index, label in enumerate(bar_plot.get_xticklabels()):\n",
    "            if index % 2 == 0:\n",
    "                label.set_visible(True)\n",
    "            else:\n",
    "                label.set_visible(False)\n",
    "    plt.show()"
   ]
  },
  {
   "cell_type": "code",
   "execution_count": 83,
   "id": "3aeebf9d",
   "metadata": {},
   "outputs": [],
   "source": [
    "left0 = hr_data[hr_data['left']==0]\n",
    "left1 = hr_data[hr_data['left']==1]"
   ]
  },
  {
   "cell_type": "code",
   "execution_count": 84,
   "id": "c95290c2",
   "metadata": {
    "scrolled": false
   },
   "outputs": [
    {
     "name": "stdout",
     "output_type": "stream",
     "text": [
      "satisfaction_level : Ttest_indResult(statistic=46.63641435277572, pvalue=0.0)\n",
      "last_evaluation : Ttest_indResult(statistic=-0.7253423415891875, pvalue=0.7658625193384043)\n",
      "number_project : Ttest_indResult(statistic=-2.1663415907198056, pvalue=0.9848296606874958)\n",
      "average_montly_hours : Ttest_indResult(statistic=-7.5322885070798735, pvalue=0.9999999999999705)\n",
      "time_spend_company : Ttest_indResult(statistic=-22.630796958073315, pvalue=1.0)\n",
      "Work_accident : Ttest_indResult(statistic=25.40275519991955, pvalue=1.2014025158922282e-138)\n",
      "promotion_last_5years : Ttest_indResult(statistic=10.852860622506201, pvalue=1.2621527500009628e-27)\n",
      "sales : Ttest_indResult(statistic=-1.2079648112477654, pvalue=0.8864454367332377)\n",
      "salary : Ttest_indResult(statistic=21.705962046009844, pvalue=1.540036313944994e-101)\n",
      "IT : Ttest_indResult(statistic=1.3663291430735152, pvalue=0.08594271329578188)\n",
      "RandD : Ttest_indResult(statistic=6.52593554702678, pvalue=3.59477111902618e-11)\n",
      "accounting : Ttest_indResult(statistic=-1.79484664696822, pvalue=0.9636341834171606)\n",
      "hr : Ttest_indResult(statistic=-3.2360138362383655, pvalue=0.9993902900711125)\n",
      "management : Ttest_indResult(statistic=6.570534963907383, pvalue=2.6645532819596616e-11)\n",
      "marketing : Ttest_indResult(statistic=0.10543979259198981, pvalue=0.45801518735975344)\n",
      "product_mng : Ttest_indResult(statistic=1.3860403654518068, pvalue=0.08289211030822595)\n",
      "support : Ttest_indResult(statistic=-1.2937650461648065, pvalue=0.9021011620660272)\n",
      "technical : Ttest_indResult(statistic=-2.410894775355866, pvalue=0.9920277960720186)\n"
     ]
    }
   ],
   "source": [
    "for predictor in predictors:\n",
    "    print(predictor + \" : \" + str(stats.ttest_ind(left0[predictor], left1[predictor], equal_var=False, alternative='greater')))\n",
    "    #Reject null hypothesis: satisfaction_level, number_project, avg_monthly_hours, time_comp, work_acc*, promotion_5*, salary*,\n",
    "    #RandD*, HR, Management*, Technical"
   ]
  },
  {
   "cell_type": "code",
   "execution_count": 85,
   "id": "3e3446db",
   "metadata": {
    "scrolled": true
   },
   "outputs": [
    {
     "name": "stdout",
     "output_type": "stream",
     "text": [
      "satisfaction_level: \n"
     ]
    },
    {
     "data": {
      "image/png": "[encoded data removed]",
      "text/plain": [
       "<Figure size 360x360 with 1 Axes>"
      ]
     },
     "metadata": {
      "needs_background": "light"
     },
     "output_type": "display_data"
    },
    {
     "name": "stdout",
     "output_type": "stream",
     "text": [
      "last_evaluation: \n"
     ]
    },
    {
     "data": {
      "image/png": "[encoded data removed]",
      "text/plain": [
       "<Figure size 360x360 with 1 Axes>"
      ]
     },
     "metadata": {
      "needs_background": "light"
     },
     "output_type": "display_data"
    },
    {
     "name": "stdout",
     "output_type": "stream",
     "text": [
      "number_project: \n"
     ]
    },
    {
     "data": {
      "image/png": "[encoded data removed]",
      "text/plain": [
       "<Figure size 360x360 with 1 Axes>"
      ]
     },
     "metadata": {
      "needs_background": "light"
     },
     "output_type": "display_data"
    },
    {
     "name": "stdout",
     "output_type": "stream",
     "text": [
      "average_montly_hours: \n"
     ]
    },
    {
     "data": {
      "image/png": "[encoded data removed]",
      "text/plain": [
       "<Figure size 360x360 with 1 Axes>"
      ]
     },
     "metadata": {
      "needs_background": "light"
     },
     "output_type": "display_data"
    },
    {
     "name": "stdout",
     "output_type": "stream",
     "text": [
      "time_spend_company: \n"
     ]
    },
    {
     "data": {
      "image/png": "[encoded data removed]",
      "text/plain": [
       "<Figure size 360x360 with 1 Axes>"
      ]
     },
     "metadata": {
      "needs_background": "light"
     },
     "output_type": "display_data"
    },
    {
     "name": "stdout",
     "output_type": "stream",
     "text": [
      "Work_accident: \n"
     ]
    },
    {
     "data": {
      "image/png": "[encoded data removed]",
      "text/plain": [
       "<Figure size 360x360 with 1 Axes>"
      ]
     },
     "metadata": {
      "needs_background": "light"
     },
     "output_type": "display_data"
    },
    {
     "name": "stdout",
     "output_type": "stream",
     "text": [
      "promotion_last_5years: \n"
     ]
    },
    {
     "data": {
      "image/png": "[encoded data removed]",
      "text/plain": [
       "<Figure size 360x360 with 1 Axes>"
      ]
     },
     "metadata": {
      "needs_background": "light"
     },
     "output_type": "display_data"
    },
    {
     "name": "stdout",
     "output_type": "stream",
     "text": [
      "sales: \n"
     ]
    },
    {
     "data": {
      "image/png": "[encoded data removed]",
      "text/plain": [
       "<Figure size 360x360 with 1 Axes>"
      ]
     },
     "metadata": {
      "needs_background": "light"
     },
     "output_type": "display_data"
    },
    {
     "name": "stdout",
     "output_type": "stream",
     "text": [
      "salary: \n"
     ]
    },
    {
     "data": {
      "image/png": "[encoded data removed]",
      "text/plain": [
       "<Figure size 360x360 with 1 Axes>"
      ]
     },
     "metadata": {
      "needs_background": "light"
     },
     "output_type": "display_data"
    },
    {
     "name": "stdout",
     "output_type": "stream",
     "text": [
      "IT: \n"
     ]
    },
    {
     "data": {
      "image/png": "[encoded data removed]",
      "text/plain": [
       "<Figure size 360x360 with 1 Axes>"
      ]
     },
     "metadata": {
      "needs_background": "light"
     },
     "output_type": "display_data"
    },
    {
     "name": "stdout",
     "output_type": "stream",
     "text": [
      "RandD: \n"
     ]
    },
    {
     "data": {
      "image/png": "[encoded data removed]",
      "text/plain": [
       "<Figure size 360x360 with 1 Axes>"
      ]
     },
     "metadata": {
      "needs_background": "light"
     },
     "output_type": "display_data"
    },
    {
     "name": "stdout",
     "output_type": "stream",
     "text": [
      "accounting: \n"
     ]
    },
    {
     "data": {
      "image/png": "[encoded data removed]",
      "text/plain": [
       "<Figure size 360x360 with 1 Axes>"
      ]
     },
     "metadata": {
      "needs_background": "light"
     },
     "output_type": "display_data"
    },
    {
     "name": "stdout",
     "output_type": "stream",
     "text": [
      "hr: \n"
     ]
    },
    {
     "data": {
      "image/png": "[encoded data removed]",
      "text/plain": [
       "<Figure size 360x360 with 1 Axes>"
      ]
     },
     "metadata": {
      "needs_background": "light"
     },
     "output_type": "display_data"
    },
    {
     "name": "stdout",
     "output_type": "stream",
     "text": [
      "management: \n"
     ]
    },
    {
     "data": {
      "image/png": "[encoded data removed]",
      "text/plain": [
       "<Figure size 360x360 with 1 Axes>"
      ]
     },
     "metadata": {
      "needs_background": "light"
     },
     "output_type": "display_data"
    },
    {
     "name": "stdout",
     "output_type": "stream",
     "text": [
      "marketing: \n"
     ]
    },
    {
     "data": {
      "image/png": "[encoded data removed]",
      "text/plain": [
       "<Figure size 360x360 with 1 Axes>"
      ]
     },
     "metadata": {
      "needs_background": "light"
     },
     "output_type": "display_data"
    },
    {
     "name": "stdout",
     "output_type": "stream",
     "text": [
      "product_mng: \n"
     ]
    },
    {
     "data": {
      "image/png": "[encoded data removed]",
      "text/plain": [
       "<Figure size 360x360 with 1 Axes>"
      ]
     },
     "metadata": {
      "needs_background": "light"
     },
     "output_type": "display_data"
    },
    {
     "name": "stdout",
     "output_type": "stream",
     "text": [
      "support: \n"
     ]
    },
    {
     "data": {
      "image/png": "[encoded data removed]",
      "text/plain": [
       "<Figure size 360x360 with 1 Axes>"
      ]
     },
     "metadata": {
      "needs_background": "light"
     },
     "output_type": "display_data"
    },
    {
     "name": "stdout",
     "output_type": "stream",
     "text": [
      "technical: \n"
     ]
    },
    {
     "data": {
      "image/png": "[encoded data removed]",
      "text/plain": [
       "<Figure size 360x360 with 1 Axes>"
      ]
     },
     "metadata": {
      "needs_background": "light"
     },
     "output_type": "display_data"
    }
   ],
   "source": [
    "for predictor in predictors:\n",
    "    print(predictor + \": \")\n",
    "    sns.lmplot(data=hr_data, x=predictor, y='left')\n",
    "    plt.show()"
   ]
  },
  {
   "cell_type": "code",
   "execution_count": 86,
   "id": "16546461",
   "metadata": {},
   "outputs": [
    {
     "data": {
      "text/plain": [
       "Index(['satisfaction_level', 'last_evaluation', 'number_project',\n",
       "       'average_montly_hours', 'time_spend_company', 'Work_accident', 'left',\n",
       "       'promotion_last_5years', 'salary', 'IT', 'RandD', 'accounting', 'hr',\n",
       "       'management', 'marketing', 'product_mng', 'sales', 'support',\n",
       "       'technical'],\n",
       "      dtype='object')"
      ]
     },
     "execution_count": 86,
     "metadata": {},
     "output_type": "execute_result"
    }
   ],
   "source": [
    "hr_data.columns"
   ]
  },
  {
   "cell_type": "code",
   "execution_count": 87,
   "id": "856c6828",
   "metadata": {},
   "outputs": [
    {
     "data": {
      "text/plain": [
       "array([[9428, 2000],\n",
       "       [3402,  169]], dtype=int64)"
      ]
     },
     "execution_count": 87,
     "metadata": {},
     "output_type": "execute_result"
    }
   ],
   "source": [
    "from sklearn.metrics import confusion_matrix\n",
    "confusion_matrix(hr_data['left'], hr_data['Work_accident'])"
   ]
  },
  {
   "cell_type": "code",
   "execution_count": 88,
   "id": "e3c75378",
   "metadata": {},
   "outputs": [
    {
     "data": {
      "text/plain": [
       "0.36084005091217647"
      ]
     },
     "execution_count": 88,
     "metadata": {},
     "output_type": "execute_result"
    }
   ],
   "source": [
    "3402/9428"
   ]
  },
  {
   "cell_type": "code",
   "execution_count": 89,
   "id": "f94c165a",
   "metadata": {},
   "outputs": [
    {
     "data": {
      "text/plain": [
       "0.0845"
      ]
     },
     "execution_count": 89,
     "metadata": {},
     "output_type": "execute_result"
    }
   ],
   "source": [
    "169/2000"
   ]
  },
  {
   "cell_type": "markdown",
   "id": "e9edcdcd",
   "metadata": {},
   "source": [
    "## Hyperparameter Tuning"
   ]
  },
  {
   "cell_type": "code",
   "execution_count": 90,
   "id": "8bd9558b",
   "metadata": {},
   "outputs": [],
   "source": [
    "hr_tuning = hr_data.copy() #creating a new dataframe without messing with the original dataframe."
   ]
  },
  {
   "cell_type": "code",
   "execution_count": 91,
   "id": "56445e65",
   "metadata": {},
   "outputs": [],
   "source": [
    "del hr_tuning['left']"
   ]
  },
  {
   "cell_type": "code",
   "execution_count": 92,
   "id": "dadd318d",
   "metadata": {},
   "outputs": [
    {
     "data": {
      "text/plain": [
       "Index(['satisfaction_level', 'last_evaluation', 'number_project',\n",
       "       'average_montly_hours', 'time_spend_company', 'Work_accident',\n",
       "       'promotion_last_5years', 'salary'],\n",
       "      dtype='object')"
      ]
     },
     "execution_count": 92,
     "metadata": {},
     "output_type": "execute_result"
    }
   ],
   "source": [
    "hr_tuning.columns[:-10]"
   ]
  },
  {
   "cell_type": "code",
   "execution_count": 93,
   "id": "046e4ae3",
   "metadata": {},
   "outputs": [],
   "source": [
    "for column in hr_tuning.columns[:-10]:\n",
    "    hr_tuning[column] = (hr_tuning[column]-hr_tuning[column].mean())/hr_tuning[column].std()"
   ]
  },
  {
   "cell_type": "code",
   "execution_count": 94,
   "id": "e5998181",
   "metadata": {
    "scrolled": true
   },
   "outputs": [
    {
     "data": {
      "text/html": [
       "<div>\n",
       "<style scoped>\n",
       "    .dataframe tbody tr th:only-of-type {\n",
       "        vertical-align: middle;\n",
       "    }\n",
       "\n",
       "    .dataframe tbody tr th {\n",
       "        vertical-align: top;\n",
       "    }\n",
       "\n",
       "    .dataframe thead th {\n",
       "        text-align: right;\n",
       "    }\n",
       "</style>\n",
       "<table border=\"1\" class=\"dataframe\">\n",
       "  <thead>\n",
       "    <tr style=\"text-align: right;\">\n",
       "      <th></th>\n",
       "      <th>satisfaction_level</th>\n",
       "      <th>last_evaluation</th>\n",
       "      <th>number_project</th>\n",
       "      <th>average_montly_hours</th>\n",
       "      <th>time_spend_company</th>\n",
       "      <th>Work_accident</th>\n",
       "      <th>promotion_last_5years</th>\n",
       "      <th>salary</th>\n",
       "      <th>IT</th>\n",
       "      <th>RandD</th>\n",
       "      <th>accounting</th>\n",
       "      <th>hr</th>\n",
       "      <th>management</th>\n",
       "      <th>marketing</th>\n",
       "      <th>product_mng</th>\n",
       "      <th>sales</th>\n",
       "      <th>support</th>\n",
       "      <th>technical</th>\n",
       "    </tr>\n",
       "  </thead>\n",
       "  <tbody>\n",
       "    <tr>\n",
       "      <th>1336</th>\n",
       "      <td>-0.695142</td>\n",
       "      <td>-1.496191</td>\n",
       "      <td>-1.462814</td>\n",
       "      <td>-0.942079</td>\n",
       "      <td>-0.341224</td>\n",
       "      <td>-0.411152</td>\n",
       "      <td>-0.147407</td>\n",
       "      <td>-0.933337</td>\n",
       "      <td>0</td>\n",
       "      <td>0</td>\n",
       "      <td>0</td>\n",
       "      <td>0</td>\n",
       "      <td>0</td>\n",
       "      <td>0</td>\n",
       "      <td>0</td>\n",
       "      <td>0</td>\n",
       "      <td>0</td>\n",
       "      <td>1</td>\n",
       "    </tr>\n",
       "  </tbody>\n",
       "</table>\n",
       "</div>"
      ],
      "text/plain": [
       "      satisfaction_level  last_evaluation  number_project  \\\n",
       "1336           -0.695142        -1.496191       -1.462814   \n",
       "\n",
       "      average_montly_hours  time_spend_company  Work_accident  \\\n",
       "1336             -0.942079           -0.341224      -0.411152   \n",
       "\n",
       "      promotion_last_5years    salary  IT  RandD  accounting  hr  management  \\\n",
       "1336              -0.147407 -0.933337   0      0           0   0           0   \n",
       "\n",
       "      marketing  product_mng  sales  support  technical  \n",
       "1336          0            0      0        0          1  "
      ]
     },
     "execution_count": 94,
     "metadata": {},
     "output_type": "execute_result"
    }
   ],
   "source": [
    "hr_tuning.sample(n=1)"
   ]
  },
  {
   "cell_type": "code",
   "execution_count": 95,
   "id": "f973b8ca",
   "metadata": {},
   "outputs": [
    {
     "data": {
      "text/html": [
       "<div>\n",
       "<style scoped>\n",
       "    .dataframe tbody tr th:only-of-type {\n",
       "        vertical-align: middle;\n",
       "    }\n",
       "\n",
       "    .dataframe tbody tr th {\n",
       "        vertical-align: top;\n",
       "    }\n",
       "\n",
       "    .dataframe thead th {\n",
       "        text-align: right;\n",
       "    }\n",
       "</style>\n",
       "<table border=\"1\" class=\"dataframe\">\n",
       "  <thead>\n",
       "    <tr style=\"text-align: right;\">\n",
       "      <th></th>\n",
       "      <th>satisfaction_level</th>\n",
       "      <th>last_evaluation</th>\n",
       "      <th>number_project</th>\n",
       "      <th>average_montly_hours</th>\n",
       "      <th>time_spend_company</th>\n",
       "      <th>Work_accident</th>\n",
       "      <th>promotion_last_5years</th>\n",
       "      <th>salary</th>\n",
       "      <th>IT</th>\n",
       "      <th>RandD</th>\n",
       "      <th>accounting</th>\n",
       "      <th>hr</th>\n",
       "      <th>marketing</th>\n",
       "      <th>product_mng</th>\n",
       "      <th>sales</th>\n",
       "      <th>support</th>\n",
       "      <th>technical</th>\n",
       "      <th>Interaction (Time/Accident)</th>\n",
       "    </tr>\n",
       "  </thead>\n",
       "  <tbody>\n",
       "    <tr>\n",
       "      <th>0</th>\n",
       "      <td>-0.936463</td>\n",
       "      <td>-1.087239</td>\n",
       "      <td>-1.462814</td>\n",
       "      <td>-0.882010</td>\n",
       "      <td>-0.341224</td>\n",
       "      <td>-0.411152</td>\n",
       "      <td>-0.147407</td>\n",
       "      <td>-0.933337</td>\n",
       "      <td>0</td>\n",
       "      <td>0</td>\n",
       "      <td>0</td>\n",
       "      <td>0</td>\n",
       "      <td>0</td>\n",
       "      <td>0</td>\n",
       "      <td>1</td>\n",
       "      <td>0</td>\n",
       "      <td>0</td>\n",
       "      <td>0.140295</td>\n",
       "    </tr>\n",
       "    <tr>\n",
       "      <th>1</th>\n",
       "      <td>0.752789</td>\n",
       "      <td>0.840679</td>\n",
       "      <td>0.971081</td>\n",
       "      <td>1.220382</td>\n",
       "      <td>1.713379</td>\n",
       "      <td>-0.411152</td>\n",
       "      <td>-0.147407</td>\n",
       "      <td>0.636071</td>\n",
       "      <td>0</td>\n",
       "      <td>0</td>\n",
       "      <td>0</td>\n",
       "      <td>0</td>\n",
       "      <td>0</td>\n",
       "      <td>0</td>\n",
       "      <td>1</td>\n",
       "      <td>0</td>\n",
       "      <td>0</td>\n",
       "      <td>-0.704459</td>\n",
       "    </tr>\n",
       "    <tr>\n",
       "      <th>2</th>\n",
       "      <td>-2.022412</td>\n",
       "      <td>0.957522</td>\n",
       "      <td>2.593677</td>\n",
       "      <td>1.420610</td>\n",
       "      <td>0.343644</td>\n",
       "      <td>-0.411152</td>\n",
       "      <td>-0.147407</td>\n",
       "      <td>0.636071</td>\n",
       "      <td>0</td>\n",
       "      <td>0</td>\n",
       "      <td>0</td>\n",
       "      <td>0</td>\n",
       "      <td>0</td>\n",
       "      <td>0</td>\n",
       "      <td>1</td>\n",
       "      <td>0</td>\n",
       "      <td>0</td>\n",
       "      <td>-0.141290</td>\n",
       "    </tr>\n",
       "    <tr>\n",
       "      <th>3</th>\n",
       "      <td>0.431027</td>\n",
       "      <td>0.899101</td>\n",
       "      <td>0.971081</td>\n",
       "      <td>0.439493</td>\n",
       "      <td>1.028511</td>\n",
       "      <td>-0.411152</td>\n",
       "      <td>-0.147407</td>\n",
       "      <td>-0.933337</td>\n",
       "      <td>0</td>\n",
       "      <td>0</td>\n",
       "      <td>0</td>\n",
       "      <td>0</td>\n",
       "      <td>0</td>\n",
       "      <td>0</td>\n",
       "      <td>1</td>\n",
       "      <td>0</td>\n",
       "      <td>0</td>\n",
       "      <td>-0.422874</td>\n",
       "    </tr>\n",
       "    <tr>\n",
       "      <th>4</th>\n",
       "      <td>-0.976684</td>\n",
       "      <td>-1.145661</td>\n",
       "      <td>-1.462814</td>\n",
       "      <td>-0.841965</td>\n",
       "      <td>-0.341224</td>\n",
       "      <td>-0.411152</td>\n",
       "      <td>-0.147407</td>\n",
       "      <td>-0.933337</td>\n",
       "      <td>0</td>\n",
       "      <td>0</td>\n",
       "      <td>0</td>\n",
       "      <td>0</td>\n",
       "      <td>0</td>\n",
       "      <td>0</td>\n",
       "      <td>1</td>\n",
       "      <td>0</td>\n",
       "      <td>0</td>\n",
       "      <td>0.140295</td>\n",
       "    </tr>\n",
       "  </tbody>\n",
       "</table>\n",
       "</div>"
      ],
      "text/plain": [
       "   satisfaction_level  last_evaluation  number_project  average_montly_hours  \\\n",
       "0           -0.936463        -1.087239       -1.462814             -0.882010   \n",
       "1            0.752789         0.840679        0.971081              1.220382   \n",
       "2           -2.022412         0.957522        2.593677              1.420610   \n",
       "3            0.431027         0.899101        0.971081              0.439493   \n",
       "4           -0.976684        -1.145661       -1.462814             -0.841965   \n",
       "\n",
       "   time_spend_company  Work_accident  promotion_last_5years    salary  IT  \\\n",
       "0           -0.341224      -0.411152              -0.147407 -0.933337   0   \n",
       "1            1.713379      -0.411152              -0.147407  0.636071   0   \n",
       "2            0.343644      -0.411152              -0.147407  0.636071   0   \n",
       "3            1.028511      -0.411152              -0.147407 -0.933337   0   \n",
       "4           -0.341224      -0.411152              -0.147407 -0.933337   0   \n",
       "\n",
       "   RandD  accounting  hr  marketing  product_mng  sales  support  technical  \\\n",
       "0      0           0   0          0            0      1        0          0   \n",
       "1      0           0   0          0            0      1        0          0   \n",
       "2      0           0   0          0            0      1        0          0   \n",
       "3      0           0   0          0            0      1        0          0   \n",
       "4      0           0   0          0            0      1        0          0   \n",
       "\n",
       "   Interaction (Time/Accident)  \n",
       "0                     0.140295  \n",
       "1                    -0.704459  \n",
       "2                    -0.141290  \n",
       "3                    -0.422874  \n",
       "4                     0.140295  "
      ]
     },
     "execution_count": 95,
     "metadata": {},
     "output_type": "execute_result"
    }
   ],
   "source": [
    "hr_tuning['Interaction (Time/Accident)'] = hr_tuning['Work_accident']*hr_tuning['time_spend_company']\n",
    "del hr_tuning['management']\n",
    "hr_tuning.head()"
   ]
  },
  {
   "cell_type": "code",
   "execution_count": 96,
   "id": "092316ef",
   "metadata": {},
   "outputs": [
    {
     "name": "stdout",
     "output_type": "stream",
     "text": [
      "const                          6.848210e-57\n",
      "satisfaction_level             0.000000e+00\n",
      "last_evaluation                1.476760e-06\n",
      "number_project                 1.016610e-48\n",
      "average_montly_hours           1.464605e-17\n",
      "time_spend_company             5.210418e-59\n",
      "Work_accident                  5.891141e-60\n",
      "promotion_last_5years          1.503593e-08\n",
      "salary                         1.032760e-72\n",
      "IT                             1.800564e-02\n",
      "RandD                          8.056018e-01\n",
      "accounting                     8.508961e-04\n",
      "hr                             7.310355e-07\n",
      "marketing                      1.158283e-03\n",
      "product_mng                    1.689183e-02\n",
      "sales                          2.457395e-04\n",
      "support                        3.037659e-05\n",
      "technical                      1.470568e-05\n",
      "Interaction (Time/Accident)    6.414404e-03\n",
      "dtype: float64\n"
     ]
    },
    {
     "data": {
      "text/html": [
       "<table class=\"simpletable\">\n",
       "<caption>Logit Regression Results</caption>\n",
       "<tr>\n",
       "  <th>Dep. Variable:</th>         <td>left</td>       <th>  No. Observations:  </th>  <td> 14999</td> \n",
       "</tr>\n",
       "<tr>\n",
       "  <th>Model:</th>                 <td>Logit</td>      <th>  Df Residuals:      </th>  <td> 14980</td> \n",
       "</tr>\n",
       "<tr>\n",
       "  <th>Method:</th>                 <td>MLE</td>       <th>  Df Model:          </th>  <td>    18</td> \n",
       "</tr>\n",
       "<tr>\n",
       "  <th>Date:</th>            <td>Thu, 31 Mar 2022</td> <th>  Pseudo R-squ.:     </th>  <td>0.2176</td> \n",
       "</tr>\n",
       "<tr>\n",
       "  <th>Time:</th>                <td>22:37:30</td>     <th>  Log-Likelihood:    </th> <td> -6441.2</td>\n",
       "</tr>\n",
       "<tr>\n",
       "  <th>converged:</th>             <td>True</td>       <th>  LL-Null:           </th> <td> -8232.3</td>\n",
       "</tr>\n",
       "<tr>\n",
       "  <th>Covariance Type:</th>     <td>nonrobust</td>    <th>  LLR p-value:       </th>  <td> 0.000</td> \n",
       "</tr>\n",
       "</table>\n",
       "<table class=\"simpletable\">\n",
       "<tr>\n",
       "               <td></td>                  <th>coef</th>     <th>std err</th>      <th>z</th>      <th>P>|z|</th>  <th>[0.025</th>    <th>0.975]</th>  \n",
       "</tr>\n",
       "<tr>\n",
       "  <th>const</th>                       <td>   -2.0553</td> <td>    0.129</td> <td>  -15.895</td> <td> 0.000</td> <td>   -2.309</td> <td>   -1.802</td>\n",
       "</tr>\n",
       "<tr>\n",
       "  <th>satisfaction_level</th>          <td>   -1.0283</td> <td>    0.024</td> <td>  -42.176</td> <td> 0.000</td> <td>   -1.076</td> <td>   -0.981</td>\n",
       "</tr>\n",
       "<tr>\n",
       "  <th>last_evaluation</th>             <td>    0.1229</td> <td>    0.026</td> <td>    4.814</td> <td> 0.000</td> <td>    0.073</td> <td>    0.173</td>\n",
       "</tr>\n",
       "<tr>\n",
       "  <th>number_project</th>              <td>   -0.3848</td> <td>    0.026</td> <td>  -14.669</td> <td> 0.000</td> <td>   -0.436</td> <td>   -0.333</td>\n",
       "</tr>\n",
       "<tr>\n",
       "  <th>average_montly_hours</th>        <td>    0.2197</td> <td>    0.026</td> <td>    8.530</td> <td> 0.000</td> <td>    0.169</td> <td>    0.270</td>\n",
       "</tr>\n",
       "<tr>\n",
       "  <th>time_spend_company</th>          <td>    0.3765</td> <td>    0.023</td> <td>   16.198</td> <td> 0.000</td> <td>    0.331</td> <td>    0.422</td>\n",
       "</tr>\n",
       "<tr>\n",
       "  <th>Work_accident</th>               <td>   -0.5169</td> <td>    0.032</td> <td>  -16.332</td> <td> 0.000</td> <td>   -0.579</td> <td>   -0.455</td>\n",
       "</tr>\n",
       "<tr>\n",
       "  <th>promotion_last_5years</th>       <td>   -0.2115</td> <td>    0.037</td> <td>   -5.661</td> <td> 0.000</td> <td>   -0.285</td> <td>   -0.138</td>\n",
       "</tr>\n",
       "<tr>\n",
       "  <th>salary</th>                      <td>   -0.4399</td> <td>    0.024</td> <td>  -18.035</td> <td> 0.000</td> <td>   -0.488</td> <td>   -0.392</td>\n",
       "</tr>\n",
       "<tr>\n",
       "  <th>IT</th>                          <td>    0.3565</td> <td>    0.151</td> <td>    2.366</td> <td> 0.018</td> <td>    0.061</td> <td>    0.652</td>\n",
       "</tr>\n",
       "<tr>\n",
       "  <th>RandD</th>                       <td>   -0.0417</td> <td>    0.170</td> <td>   -0.246</td> <td> 0.806</td> <td>   -0.374</td> <td>    0.291</td>\n",
       "</tr>\n",
       "<tr>\n",
       "  <th>accounting</th>                  <td>    0.5295</td> <td>    0.159</td> <td>    3.336</td> <td> 0.001</td> <td>    0.218</td> <td>    0.841</td>\n",
       "</tr>\n",
       "<tr>\n",
       "  <th>hr</th>                          <td>    0.7829</td> <td>    0.158</td> <td>    4.953</td> <td> 0.000</td> <td>    0.473</td> <td>    1.093</td>\n",
       "</tr>\n",
       "<tr>\n",
       "  <th>marketing</th>                   <td>    0.5142</td> <td>    0.158</td> <td>    3.249</td> <td> 0.001</td> <td>    0.204</td> <td>    0.824</td>\n",
       "</tr>\n",
       "<tr>\n",
       "  <th>product_mng</th>                 <td>    0.3757</td> <td>    0.157</td> <td>    2.389</td> <td> 0.017</td> <td>    0.067</td> <td>    0.684</td>\n",
       "</tr>\n",
       "<tr>\n",
       "  <th>sales</th>                       <td>    0.4958</td> <td>    0.135</td> <td>    3.667</td> <td> 0.000</td> <td>    0.231</td> <td>    0.761</td>\n",
       "</tr>\n",
       "<tr>\n",
       "  <th>support</th>                     <td>    0.5875</td> <td>    0.141</td> <td>    4.171</td> <td> 0.000</td> <td>    0.311</td> <td>    0.864</td>\n",
       "</tr>\n",
       "<tr>\n",
       "  <th>technical</th>                   <td>    0.6005</td> <td>    0.139</td> <td>    4.333</td> <td> 0.000</td> <td>    0.329</td> <td>    0.872</td>\n",
       "</tr>\n",
       "<tr>\n",
       "  <th>Interaction (Time/Accident)</th> <td>   -0.0747</td> <td>    0.027</td> <td>   -2.726</td> <td> 0.006</td> <td>   -0.128</td> <td>   -0.021</td>\n",
       "</tr>\n",
       "</table>"
      ],
      "text/plain": [
       "<class 'statsmodels.iolib.summary.Summary'>\n",
       "\"\"\"\n",
       "                           Logit Regression Results                           \n",
       "==============================================================================\n",
       "Dep. Variable:                   left   No. Observations:                14999\n",
       "Model:                          Logit   Df Residuals:                    14980\n",
       "Method:                           MLE   Df Model:                           18\n",
       "Date:                Thu, 31 Mar 2022   Pseudo R-squ.:                  0.2176\n",
       "Time:                        22:37:30   Log-Likelihood:                -6441.2\n",
       "converged:                       True   LL-Null:                       -8232.3\n",
       "Covariance Type:            nonrobust   LLR p-value:                     0.000\n",
       "===============================================================================================\n",
       "                                  coef    std err          z      P>|z|      [0.025      0.975]\n",
       "-----------------------------------------------------------------------------------------------\n",
       "const                          -2.0553      0.129    -15.895      0.000      -2.309      -1.802\n",
       "satisfaction_level             -1.0283      0.024    -42.176      0.000      -1.076      -0.981\n",
       "last_evaluation                 0.1229      0.026      4.814      0.000       0.073       0.173\n",
       "number_project                 -0.3848      0.026    -14.669      0.000      -0.436      -0.333\n",
       "average_montly_hours            0.2197      0.026      8.530      0.000       0.169       0.270\n",
       "time_spend_company              0.3765      0.023     16.198      0.000       0.331       0.422\n",
       "Work_accident                  -0.5169      0.032    -16.332      0.000      -0.579      -0.455\n",
       "promotion_last_5years          -0.2115      0.037     -5.661      0.000      -0.285      -0.138\n",
       "salary                         -0.4399      0.024    -18.035      0.000      -0.488      -0.392\n",
       "IT                              0.3565      0.151      2.366      0.018       0.061       0.652\n",
       "RandD                          -0.0417      0.170     -0.246      0.806      -0.374       0.291\n",
       "accounting                      0.5295      0.159      3.336      0.001       0.218       0.841\n",
       "hr                              0.7829      0.158      4.953      0.000       0.473       1.093\n",
       "marketing                       0.5142      0.158      3.249      0.001       0.204       0.824\n",
       "product_mng                     0.3757      0.157      2.389      0.017       0.067       0.684\n",
       "sales                           0.4958      0.135      3.667      0.000       0.231       0.761\n",
       "support                         0.5875      0.141      4.171      0.000       0.311       0.864\n",
       "technical                       0.6005      0.139      4.333      0.000       0.329       0.872\n",
       "Interaction (Time/Accident)    -0.0747      0.027     -2.726      0.006      -0.128      -0.021\n",
       "===============================================================================================\n",
       "\"\"\""
      ]
     },
     "execution_count": 96,
     "metadata": {},
     "output_type": "execute_result"
    }
   ],
   "source": [
    "import statsmodels.api as sm\n",
    "sm_model = sm.Logit(hr_data['left'], sm.add_constant(hr_tuning)).fit(disp=0)\n",
    "print(sm_model.pvalues)\n",
    "sm_model.summary()"
   ]
  },
  {
   "cell_type": "code",
   "execution_count": 97,
   "id": "758eca59",
   "metadata": {},
   "outputs": [],
   "source": [
    "#Creating a list and looping through to format.\n",
    "hr_list = list(hr_tuning.columns)\n",
    "\n",
    "for item in hr_list:\n",
    "    item = 'hr_list[\"'+item+'\"]'"
   ]
  },
  {
   "cell_type": "code",
   "execution_count": 98,
   "id": "8ea12aa8",
   "metadata": {},
   "outputs": [],
   "source": [
    "#Creating a logistic regression and conerting the coefficients to a list.\n",
    "regr = linear_model.LogisticRegression()\n",
    "regr.fit(hr_tuning[hr_list], hr[\"left\"])\n",
    "coef = regr.coef_[0].tolist()"
   ]
  },
  {
   "cell_type": "code",
   "execution_count": 99,
   "id": "e9f815f0",
   "metadata": {
    "scrolled": true
   },
   "outputs": [
    {
     "name": "stdout",
     "output_type": "stream",
     "text": [
      "satisfaction_level: -1.0273574706248927\n",
      "last_evaluation: 0.12248811190623157\n",
      "number_project: -0.38401317700437443\n",
      "average_montly_hours: 0.2195066647479054\n",
      "time_spend_company: 0.37508401022165033\n",
      "Work_accident: -0.5162115977461842\n",
      "promotion_last_5years: -0.2123885695515524\n",
      "salary: -0.44065456576067497\n",
      "IT: 0.2954135102460333\n",
      "RandD: -0.1001766745587766\n",
      "accounting: 0.4663268754641599\n",
      "hr: 0.7176749894008032\n",
      "marketing: 0.4513492864079386\n",
      "product_mng: 0.31379637248402015\n",
      "sales: 0.43549157760355056\n",
      "support: 0.5259983840014197\n",
      "technical: 0.5392183293034523\n",
      "Interaction (Time/Accident): -0.07483423948254998\n"
     ]
    }
   ],
   "source": [
    "#Displaying the results and formatting it to display next to the name of each categorical value.\n",
    "for x,y in zip(hr_list,coef):\n",
    "    y=str(y)\n",
    "    print(x+\": \"+y)"
   ]
  },
  {
   "cell_type": "code",
   "execution_count": 100,
   "id": "d2d71222",
   "metadata": {},
   "outputs": [
    {
     "data": {
      "text/plain": [
       "1.0273574706248927"
      ]
     },
     "execution_count": 100,
     "metadata": {},
     "output_type": "execute_result"
    }
   ],
   "source": [
    "max_val = np.max(np.abs(coef))\n",
    "max_val"
   ]
  },
  {
   "cell_type": "code",
   "execution_count": 101,
   "id": "2b85a6ec",
   "metadata": {
    "scrolled": false
   },
   "outputs": [
    {
     "name": "stdout",
     "output_type": "stream",
     "text": [
      "['satisfaction_level', 'Work_accident', 'hr', 'support', 'technical']\n",
      "[1.0273574706248927, 0.5162115977461842, 0.7176749894008032, 0.5259983840014197, 0.5392183293034523]\n"
     ]
    },
    {
     "data": {
      "text/plain": [
       "True"
      ]
     },
     "execution_count": 101,
     "metadata": {},
     "output_type": "execute_result"
    }
   ],
   "source": [
    "log_important_features = []\n",
    "log_coef_list = []\n",
    "\n",
    "for coe,f_name in zip(coef,hr_list):\n",
    "    if abs(coe) > max_val/2:\n",
    "        log_important_features.append(f_name)\n",
    "        log_coef_list.append(abs(coe))\n",
    "        \n",
    "print(log_important_features) #Put this into a df and sort it that way. #pd.DataFrame(dictionary) #Find a significance factor, special t test to prevent too many t tests.\n",
    "print(log_coef_list)\n",
    "\n",
    "len(log_important_features) == len(log_coef_list)"
   ]
  },
  {
   "cell_type": "code",
   "execution_count": 102,
   "id": "7dfc77e5",
   "metadata": {},
   "outputs": [
    {
     "data": {
      "text/html": [
       "<div>\n",
       "<style scoped>\n",
       "    .dataframe tbody tr th:only-of-type {\n",
       "        vertical-align: middle;\n",
       "    }\n",
       "\n",
       "    .dataframe tbody tr th {\n",
       "        vertical-align: top;\n",
       "    }\n",
       "\n",
       "    .dataframe thead th {\n",
       "        text-align: right;\n",
       "    }\n",
       "</style>\n",
       "<table border=\"1\" class=\"dataframe\">\n",
       "  <thead>\n",
       "    <tr style=\"text-align: right;\">\n",
       "      <th></th>\n",
       "      <th>Important Features</th>\n",
       "      <th>Coefficient</th>\n",
       "    </tr>\n",
       "  </thead>\n",
       "  <tbody>\n",
       "    <tr>\n",
       "      <th>0</th>\n",
       "      <td>satisfaction_level</td>\n",
       "      <td>1.027357</td>\n",
       "    </tr>\n",
       "    <tr>\n",
       "      <th>1</th>\n",
       "      <td>Work_accident</td>\n",
       "      <td>0.516212</td>\n",
       "    </tr>\n",
       "    <tr>\n",
       "      <th>2</th>\n",
       "      <td>hr</td>\n",
       "      <td>0.717675</td>\n",
       "    </tr>\n",
       "    <tr>\n",
       "      <th>3</th>\n",
       "      <td>support</td>\n",
       "      <td>0.525998</td>\n",
       "    </tr>\n",
       "    <tr>\n",
       "      <th>4</th>\n",
       "      <td>technical</td>\n",
       "      <td>0.539218</td>\n",
       "    </tr>\n",
       "  </tbody>\n",
       "</table>\n",
       "</div>"
      ],
      "text/plain": [
       "   Important Features  Coefficient\n",
       "0  satisfaction_level     1.027357\n",
       "1       Work_accident     0.516212\n",
       "2                  hr     0.717675\n",
       "3             support     0.525998\n",
       "4           technical     0.539218"
      ]
     },
     "execution_count": 102,
     "metadata": {},
     "output_type": "execute_result"
    }
   ],
   "source": [
    "log_important_df = pd.DataFrame(list(zip(log_important_features, log_coef_list)),\n",
    "               columns =['Important Features', 'Coefficient'])\n",
    "log_important_df"
   ]
  },
  {
   "cell_type": "code",
   "execution_count": 103,
   "id": "5aca5cd9",
   "metadata": {},
   "outputs": [
    {
     "name": "stdout",
     "output_type": "stream",
     "text": [
      "satisfaction_level: -0.15986455210884892\n",
      "last_evaluation: 0.01407920313852013\n",
      "number_project: -0.04212881010188136\n",
      "average_montly_hours: 0.03132308716461685\n",
      "time_spend_company: 0.05542391036109279\n",
      "Work_accident: -0.05466373491413619\n",
      "promotion_last_5years: -0.016171592195739725\n",
      "salary: -0.05755709032432665\n",
      "IT: 0.03879116658923225\n",
      "RandD: -0.009980866022259314\n",
      "accounting: 0.06265464269767992\n",
      "hr: 0.09926204317898686\n",
      "marketing: 0.06194763834340455\n",
      "product_mng: 0.03936787092789331\n",
      "sales: 0.058834675959647996\n",
      "support: 0.07120037220378919\n",
      "technical: 0.07092371359364867\n",
      "Interaction (Time/Accident): -0.01708842812850672\n"
     ]
    }
   ],
   "source": [
    "#\n",
    "#Repeating the same thing for Ridge.\n",
    "hr_tuning = hr_data.copy() #creating a new dataframe without messing with the original dataframe.\n",
    "del hr_tuning['left']\n",
    "\n",
    "for column in hr_tuning.columns[:-10]:\n",
    "    hr_tuning[column] = (hr_tuning[column]-hr_tuning[column].mean())/hr_tuning[column].std()\n",
    "    \n",
    "hr_tuning['Interaction (Time/Accident)'] = hr_tuning['Work_accident']*hr_tuning['time_spend_company']\n",
    "del hr_tuning['management']\n",
    "\n",
    "hr_list = list(hr_tuning.columns)\n",
    "\n",
    "for item in hr_list:\n",
    "    item = 'hr_list[\"'+item+'\"]'\n",
    "    \n",
    "#Creating a logistic regression and conerting the coefficients to a list.\n",
    "rig = Ridge(alpha=1.0)\n",
    "rig.fit(hr_tuning[hr_list], hr[\"left\"])\n",
    "rig.score(hr_tuning[hr_list], hr[\"left\"])\n",
    "#coef = regr.coef_[0].tolist()\n",
    "\n",
    "#Displaying the results and formatting it to display next to the name of each categorical value.\n",
    "for x,y in zip(hr_list,rig.coef_):\n",
    "    y=str(y)\n",
    "    print(x + \": \" + y)"
   ]
  },
  {
   "cell_type": "code",
   "execution_count": 104,
   "id": "11e8780e",
   "metadata": {},
   "outputs": [
    {
     "name": "stdout",
     "output_type": "stream",
     "text": [
      "['satisfaction_level', 'hr', 'support', 'technical']\n",
      "[0.15986455210884892, 0.09926204317898686, 0.07120037220378919, 0.07092371359364867]\n"
     ]
    },
    {
     "data": {
      "text/plain": [
       "True"
      ]
     },
     "execution_count": 104,
     "metadata": {},
     "output_type": "execute_result"
    }
   ],
   "source": [
    "#\n",
    "max_val = np.max(np.abs(coef))\n",
    "\n",
    "rig_important_features = []\n",
    "rig_coef_list = []\n",
    "\n",
    "for coe,f_name in zip(rig.coef_,hr_list):\n",
    "    if abs(coe) > max_val/15:\n",
    "        rig_important_features.append(f_name)\n",
    "        rig_coef_list.append(abs(coe))\n",
    "        \n",
    "print(rig_important_features) #Put this into a df and sort it that way. #pd.DataFrame(dictionary) #Find a significance factor, special t test to prevent too many t tests.\n",
    "print(rig_coef_list)\n",
    "\n",
    "len(rig_important_features) == len(rig_coef_list)"
   ]
  },
  {
   "cell_type": "code",
   "execution_count": 105,
   "id": "6cf49671",
   "metadata": {},
   "outputs": [
    {
     "data": {
      "text/html": [
       "<div>\n",
       "<style scoped>\n",
       "    .dataframe tbody tr th:only-of-type {\n",
       "        vertical-align: middle;\n",
       "    }\n",
       "\n",
       "    .dataframe tbody tr th {\n",
       "        vertical-align: top;\n",
       "    }\n",
       "\n",
       "    .dataframe thead th {\n",
       "        text-align: right;\n",
       "    }\n",
       "</style>\n",
       "<table border=\"1\" class=\"dataframe\">\n",
       "  <thead>\n",
       "    <tr style=\"text-align: right;\">\n",
       "      <th></th>\n",
       "      <th>Important Features</th>\n",
       "      <th>Coefficient</th>\n",
       "    </tr>\n",
       "  </thead>\n",
       "  <tbody>\n",
       "    <tr>\n",
       "      <th>0</th>\n",
       "      <td>satisfaction_level</td>\n",
       "      <td>1.027357</td>\n",
       "    </tr>\n",
       "    <tr>\n",
       "      <th>1</th>\n",
       "      <td>Work_accident</td>\n",
       "      <td>0.516212</td>\n",
       "    </tr>\n",
       "    <tr>\n",
       "      <th>2</th>\n",
       "      <td>hr</td>\n",
       "      <td>0.717675</td>\n",
       "    </tr>\n",
       "    <tr>\n",
       "      <th>3</th>\n",
       "      <td>support</td>\n",
       "      <td>0.525998</td>\n",
       "    </tr>\n",
       "    <tr>\n",
       "      <th>4</th>\n",
       "      <td>technical</td>\n",
       "      <td>0.539218</td>\n",
       "    </tr>\n",
       "  </tbody>\n",
       "</table>\n",
       "</div>"
      ],
      "text/plain": [
       "   Important Features  Coefficient\n",
       "0  satisfaction_level     1.027357\n",
       "1       Work_accident     0.516212\n",
       "2                  hr     0.717675\n",
       "3             support     0.525998\n",
       "4           technical     0.539218"
      ]
     },
     "execution_count": 105,
     "metadata": {},
     "output_type": "execute_result"
    }
   ],
   "source": [
    "#\n",
    "important_df = pd.DataFrame(list(zip(important_features, coef_list)),\n",
    "               columns =['Important Features', 'Coefficient'])\n",
    "important_df"
   ]
  },
  {
   "cell_type": "code",
   "execution_count": 106,
   "id": "fb144ed1",
   "metadata": {},
   "outputs": [],
   "source": [
    "#df.corr()\n",
    "#pandas.stats\n",
    "#ols\n",
    "#stats models"
   ]
  },
  {
   "cell_type": "code",
   "execution_count": 107,
   "id": "3b9a4f40",
   "metadata": {},
   "outputs": [],
   "source": [
    "#NOTES: - Do logistic regression (sub from linear), keep the ridge, keep tuning\n",
    "#Changing max with st dev.\n",
    "#Do not report t test with dummy variables. ANOVA or Chi Squared."
   ]
  }
 ],
 "metadata": {
  "kernelspec": {
   "display_name": "Python 3",
   "language": "python",
   "name": "python3"
  },
  "language_info": {
   "codemirror_mode": {
    "name": "ipython",
    "version": 3
   },
   "file_extension": ".py",
   "mimetype": "text/x-python",
   "name": "python",
   "nbconvert_exporter": "python",
   "pygments_lexer": "ipython3",
   "version": "3.8.8"
  }
 },
 "nbformat": 4,
 "nbformat_minor": 5
}
